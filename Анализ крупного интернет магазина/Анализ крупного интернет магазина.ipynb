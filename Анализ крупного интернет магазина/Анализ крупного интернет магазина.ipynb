{
 "cells": [
  {
   "cell_type": "markdown",
   "metadata": {},
   "source": [
    "# Анализ крупного интернет-магазина"
   ]
  },
  {
   "cell_type": "markdown",
   "metadata": {},
   "source": [
    "Цель работы заключается в анализе эффективности двух групп (A и B) в рамках интернет-магазина. Исследование включает построение графиков кумулятивной выручки, среднего чека и среднего количества заказов на посетителя для каждой группы, а также анализ относительных изменений между группами. Дополнительно проводится точечный график количества заказов по пользователям и график стоимостей заказов. Задачи также включают определение аномалий через 95-й и 99-й перцентили как для количества заказов, так и для стоимостей. На последующих этапах проводится статистический анализ различий в среднем количестве заказов и среднем чеке между группами по \"сырым\" и \"очищенным\" данным, что должно привести к выделению ключевых факторов влияния на эффективность групп и определению оптимальной стратегии для улучшения показателей интернет-магазина.\n",
    "\n",
    "План работы: \n",
    "\n",
    "1) Приоритизация гипотез \n",
    "\n",
    "2) Анализ А/В теста\n",
    "\n",
    "3) Принять решение по результатам и объяснить его\n",
    "\n"
   ]
  },
  {
   "cell_type": "markdown",
   "metadata": {},
   "source": [
    "## Загрузка данных и подготовка их к анализу"
   ]
  },
  {
   "cell_type": "markdown",
   "metadata": {},
   "source": [
    "### подключение библиотек, загрузка данных и изучение общей информации"
   ]
  },
  {
   "cell_type": "code",
   "execution_count": 1,
   "metadata": {},
   "outputs": [],
   "source": [
    "import pandas as pd\n",
    "import scipy.stats as stats\n",
    "import datetime as dt\n",
    "import numpy as np\n",
    "import matplotlib.pyplot as plt\n",
    "import seaborn as sns\n",
    "pd.options.display.max_colwidth = 100"
   ]
  },
  {
   "cell_type": "code",
   "execution_count": 2,
   "metadata": {},
   "outputs": [],
   "source": [
    "hypothesis = pd.read_csv('/datasets/hypothesis.csv')\n",
    "orders = pd.read_csv('/datasets/orders.csv')\n",
    "visitors = pd.read_csv('/datasets/visitors.csv')"
   ]
  },
  {
   "cell_type": "markdown",
   "metadata": {},
   "source": [
    "#### гипотезы"
   ]
  },
  {
   "cell_type": "code",
   "execution_count": 3,
   "metadata": {},
   "outputs": [
    {
     "data": {
      "text/html": [
       "<div>\n",
       "<style scoped>\n",
       "    .dataframe tbody tr th:only-of-type {\n",
       "        vertical-align: middle;\n",
       "    }\n",
       "\n",
       "    .dataframe tbody tr th {\n",
       "        vertical-align: top;\n",
       "    }\n",
       "\n",
       "    .dataframe thead th {\n",
       "        text-align: right;\n",
       "    }\n",
       "</style>\n",
       "<table border=\"1\" class=\"dataframe\">\n",
       "  <thead>\n",
       "    <tr style=\"text-align: right;\">\n",
       "      <th></th>\n",
       "      <th>Hypothesis</th>\n",
       "      <th>Reach</th>\n",
       "      <th>Impact</th>\n",
       "      <th>Confidence</th>\n",
       "      <th>Efforts</th>\n",
       "    </tr>\n",
       "  </thead>\n",
       "  <tbody>\n",
       "    <tr>\n",
       "      <th>0</th>\n",
       "      <td>Добавить два новых канала привлечения трафика, что позволит привлекать на 30% больше пользователей</td>\n",
       "      <td>3</td>\n",
       "      <td>10</td>\n",
       "      <td>8</td>\n",
       "      <td>6</td>\n",
       "    </tr>\n",
       "    <tr>\n",
       "      <th>1</th>\n",
       "      <td>Запустить собственную службу доставки, что сократит срок доставки заказов</td>\n",
       "      <td>2</td>\n",
       "      <td>5</td>\n",
       "      <td>4</td>\n",
       "      <td>10</td>\n",
       "    </tr>\n",
       "    <tr>\n",
       "      <th>2</th>\n",
       "      <td>Добавить блоки рекомендаций товаров на сайт интернет магазина, чтобы повысить конверсию и средни...</td>\n",
       "      <td>8</td>\n",
       "      <td>3</td>\n",
       "      <td>7</td>\n",
       "      <td>3</td>\n",
       "    </tr>\n",
       "    <tr>\n",
       "      <th>3</th>\n",
       "      <td>Изменить структура категорий, что увеличит конверсию, т.к. пользователи быстрее найдут нужный товар</td>\n",
       "      <td>8</td>\n",
       "      <td>3</td>\n",
       "      <td>3</td>\n",
       "      <td>8</td>\n",
       "    </tr>\n",
       "    <tr>\n",
       "      <th>4</th>\n",
       "      <td>Изменить цвет фона главной страницы, чтобы увеличить вовлеченность пользователей</td>\n",
       "      <td>3</td>\n",
       "      <td>1</td>\n",
       "      <td>1</td>\n",
       "      <td>1</td>\n",
       "    </tr>\n",
       "    <tr>\n",
       "      <th>5</th>\n",
       "      <td>Добавить страницу отзывов клиентов о магазине, что позволит увеличить количество заказов</td>\n",
       "      <td>3</td>\n",
       "      <td>2</td>\n",
       "      <td>2</td>\n",
       "      <td>3</td>\n",
       "    </tr>\n",
       "    <tr>\n",
       "      <th>6</th>\n",
       "      <td>Показать на главной странице баннеры с актуальными акциями и распродажами, чтобы увеличить конве...</td>\n",
       "      <td>5</td>\n",
       "      <td>3</td>\n",
       "      <td>8</td>\n",
       "      <td>3</td>\n",
       "    </tr>\n",
       "    <tr>\n",
       "      <th>7</th>\n",
       "      <td>Добавить форму подписки на все основные страницы, чтобы собрать базу клиентов для email-рассылок</td>\n",
       "      <td>10</td>\n",
       "      <td>7</td>\n",
       "      <td>8</td>\n",
       "      <td>5</td>\n",
       "    </tr>\n",
       "    <tr>\n",
       "      <th>8</th>\n",
       "      <td>Запустить акцию, дающую скидку на товар в день рождения</td>\n",
       "      <td>1</td>\n",
       "      <td>9</td>\n",
       "      <td>9</td>\n",
       "      <td>5</td>\n",
       "    </tr>\n",
       "  </tbody>\n",
       "</table>\n",
       "</div>"
      ],
      "text/plain": [
       "                                                                                            Hypothesis  \\\n",
       "0   Добавить два новых канала привлечения трафика, что позволит привлекать на 30% больше пользователей   \n",
       "1                            Запустить собственную службу доставки, что сократит срок доставки заказов   \n",
       "2  Добавить блоки рекомендаций товаров на сайт интернет магазина, чтобы повысить конверсию и средни...   \n",
       "3  Изменить структура категорий, что увеличит конверсию, т.к. пользователи быстрее найдут нужный товар   \n",
       "4                     Изменить цвет фона главной страницы, чтобы увеличить вовлеченность пользователей   \n",
       "5             Добавить страницу отзывов клиентов о магазине, что позволит увеличить количество заказов   \n",
       "6  Показать на главной странице баннеры с актуальными акциями и распродажами, чтобы увеличить конве...   \n",
       "7     Добавить форму подписки на все основные страницы, чтобы собрать базу клиентов для email-рассылок   \n",
       "8                                              Запустить акцию, дающую скидку на товар в день рождения   \n",
       "\n",
       "   Reach  Impact  Confidence  Efforts  \n",
       "0      3      10           8        6  \n",
       "1      2       5           4       10  \n",
       "2      8       3           7        3  \n",
       "3      8       3           3        8  \n",
       "4      3       1           1        1  \n",
       "5      3       2           2        3  \n",
       "6      5       3           8        3  \n",
       "7     10       7           8        5  \n",
       "8      1       9           9        5  "
      ]
     },
     "execution_count": 3,
     "metadata": {},
     "output_type": "execute_result"
    }
   ],
   "source": [
    "#вывод первых строк\n",
    "hypothesis.head(10)"
   ]
  },
  {
   "cell_type": "code",
   "execution_count": 4,
   "metadata": {},
   "outputs": [
    {
     "name": "stdout",
     "output_type": "stream",
     "text": [
      "<class 'pandas.core.frame.DataFrame'>\n",
      "RangeIndex: 9 entries, 0 to 8\n",
      "Data columns (total 5 columns):\n",
      " #   Column      Non-Null Count  Dtype \n",
      "---  ------      --------------  ----- \n",
      " 0   Hypothesis  9 non-null      object\n",
      " 1   Reach       9 non-null      int64 \n",
      " 2   Impact      9 non-null      int64 \n",
      " 3   Confidence  9 non-null      int64 \n",
      " 4   Efforts     9 non-null      int64 \n",
      "dtypes: int64(4), object(1)\n",
      "memory usage: 488.0+ bytes\n"
     ]
    }
   ],
   "source": [
    "#общая информация\n",
    "hypothesis.info()"
   ]
  },
  {
   "cell_type": "markdown",
   "metadata": {},
   "source": [
    "Промежуточный вывод по гипотезам: \n",
    "\n",
    "Значений: 9, Колонок: 5\n",
    "\n",
    "Hypothesis - поменять название, тип данных правильный\n",
    "\n",
    "Reach - поменять название, тип данных правильный\n",
    "\n",
    "Impact - поменять название, тип данных правильный\n",
    "\n",
    "Confidence - поменять название, тип данных правильный\n",
    "\n",
    "Efforts - поменять название, тип данных правильный\n"
   ]
  },
  {
   "cell_type": "markdown",
   "metadata": {},
   "source": [
    "#### заказы"
   ]
  },
  {
   "cell_type": "code",
   "execution_count": 5,
   "metadata": {},
   "outputs": [
    {
     "data": {
      "text/html": [
       "<div>\n",
       "<style scoped>\n",
       "    .dataframe tbody tr th:only-of-type {\n",
       "        vertical-align: middle;\n",
       "    }\n",
       "\n",
       "    .dataframe tbody tr th {\n",
       "        vertical-align: top;\n",
       "    }\n",
       "\n",
       "    .dataframe thead th {\n",
       "        text-align: right;\n",
       "    }\n",
       "</style>\n",
       "<table border=\"1\" class=\"dataframe\">\n",
       "  <thead>\n",
       "    <tr style=\"text-align: right;\">\n",
       "      <th></th>\n",
       "      <th>transactionId</th>\n",
       "      <th>visitorId</th>\n",
       "      <th>date</th>\n",
       "      <th>revenue</th>\n",
       "      <th>group</th>\n",
       "    </tr>\n",
       "  </thead>\n",
       "  <tbody>\n",
       "    <tr>\n",
       "      <th>0</th>\n",
       "      <td>3667963787</td>\n",
       "      <td>3312258926</td>\n",
       "      <td>2019-08-15</td>\n",
       "      <td>1650</td>\n",
       "      <td>B</td>\n",
       "    </tr>\n",
       "    <tr>\n",
       "      <th>1</th>\n",
       "      <td>2804400009</td>\n",
       "      <td>3642806036</td>\n",
       "      <td>2019-08-15</td>\n",
       "      <td>730</td>\n",
       "      <td>B</td>\n",
       "    </tr>\n",
       "    <tr>\n",
       "      <th>2</th>\n",
       "      <td>2961555356</td>\n",
       "      <td>4069496402</td>\n",
       "      <td>2019-08-15</td>\n",
       "      <td>400</td>\n",
       "      <td>A</td>\n",
       "    </tr>\n",
       "    <tr>\n",
       "      <th>3</th>\n",
       "      <td>3797467345</td>\n",
       "      <td>1196621759</td>\n",
       "      <td>2019-08-15</td>\n",
       "      <td>9759</td>\n",
       "      <td>B</td>\n",
       "    </tr>\n",
       "    <tr>\n",
       "      <th>4</th>\n",
       "      <td>2282983706</td>\n",
       "      <td>2322279887</td>\n",
       "      <td>2019-08-15</td>\n",
       "      <td>2308</td>\n",
       "      <td>B</td>\n",
       "    </tr>\n",
       "    <tr>\n",
       "      <th>5</th>\n",
       "      <td>182168103</td>\n",
       "      <td>935554773</td>\n",
       "      <td>2019-08-15</td>\n",
       "      <td>2210</td>\n",
       "      <td>B</td>\n",
       "    </tr>\n",
       "    <tr>\n",
       "      <th>6</th>\n",
       "      <td>398296753</td>\n",
       "      <td>2900797465</td>\n",
       "      <td>2019-08-15</td>\n",
       "      <td>1860</td>\n",
       "      <td>B</td>\n",
       "    </tr>\n",
       "    <tr>\n",
       "      <th>7</th>\n",
       "      <td>2626614568</td>\n",
       "      <td>78758296</td>\n",
       "      <td>2019-08-15</td>\n",
       "      <td>1044</td>\n",
       "      <td>A</td>\n",
       "    </tr>\n",
       "    <tr>\n",
       "      <th>8</th>\n",
       "      <td>1576988021</td>\n",
       "      <td>295230930</td>\n",
       "      <td>2019-08-15</td>\n",
       "      <td>13710</td>\n",
       "      <td>A</td>\n",
       "    </tr>\n",
       "    <tr>\n",
       "      <th>9</th>\n",
       "      <td>1506739906</td>\n",
       "      <td>1882260405</td>\n",
       "      <td>2019-08-15</td>\n",
       "      <td>1855</td>\n",
       "      <td>B</td>\n",
       "    </tr>\n",
       "  </tbody>\n",
       "</table>\n",
       "</div>"
      ],
      "text/plain": [
       "   transactionId   visitorId        date  revenue group\n",
       "0     3667963787  3312258926  2019-08-15     1650     B\n",
       "1     2804400009  3642806036  2019-08-15      730     B\n",
       "2     2961555356  4069496402  2019-08-15      400     A\n",
       "3     3797467345  1196621759  2019-08-15     9759     B\n",
       "4     2282983706  2322279887  2019-08-15     2308     B\n",
       "5      182168103   935554773  2019-08-15     2210     B\n",
       "6      398296753  2900797465  2019-08-15     1860     B\n",
       "7     2626614568    78758296  2019-08-15     1044     A\n",
       "8     1576988021   295230930  2019-08-15    13710     A\n",
       "9     1506739906  1882260405  2019-08-15     1855     B"
      ]
     },
     "execution_count": 5,
     "metadata": {},
     "output_type": "execute_result"
    }
   ],
   "source": [
    "#вывод первых строк\n",
    "orders.head(10)"
   ]
  },
  {
   "cell_type": "code",
   "execution_count": 6,
   "metadata": {},
   "outputs": [
    {
     "name": "stdout",
     "output_type": "stream",
     "text": [
      "<class 'pandas.core.frame.DataFrame'>\n",
      "RangeIndex: 1197 entries, 0 to 1196\n",
      "Data columns (total 5 columns):\n",
      " #   Column         Non-Null Count  Dtype \n",
      "---  ------         --------------  ----- \n",
      " 0   transactionId  1197 non-null   int64 \n",
      " 1   visitorId      1197 non-null   int64 \n",
      " 2   date           1197 non-null   object\n",
      " 3   revenue        1197 non-null   int64 \n",
      " 4   group          1197 non-null   object\n",
      "dtypes: int64(3), object(2)\n",
      "memory usage: 46.9+ KB\n"
     ]
    }
   ],
   "source": [
    "#общая информация \n",
    "orders.info()"
   ]
  },
  {
   "cell_type": "markdown",
   "metadata": {},
   "source": [
    "Промежуточный вывод по заказам:\n",
    "\n",
    "Значений: 1997, Колонок: 5\n",
    "\n",
    "transactionId - поменять название, тип данных правильный\n",
    "\n",
    "visitorId - поменять название, тип данных правильный\n",
    "\n",
    "date - название правильное, тип данных поменять на datetime\n",
    "\n",
    "revenue - название правильное, тип данных правильный\n",
    "\n",
    "group - название правильное, тип данных правильный"
   ]
  },
  {
   "cell_type": "markdown",
   "metadata": {},
   "source": [
    "#### посетители"
   ]
  },
  {
   "cell_type": "code",
   "execution_count": 7,
   "metadata": {},
   "outputs": [
    {
     "data": {
      "text/html": [
       "<div>\n",
       "<style scoped>\n",
       "    .dataframe tbody tr th:only-of-type {\n",
       "        vertical-align: middle;\n",
       "    }\n",
       "\n",
       "    .dataframe tbody tr th {\n",
       "        vertical-align: top;\n",
       "    }\n",
       "\n",
       "    .dataframe thead th {\n",
       "        text-align: right;\n",
       "    }\n",
       "</style>\n",
       "<table border=\"1\" class=\"dataframe\">\n",
       "  <thead>\n",
       "    <tr style=\"text-align: right;\">\n",
       "      <th></th>\n",
       "      <th>date</th>\n",
       "      <th>group</th>\n",
       "      <th>visitors</th>\n",
       "    </tr>\n",
       "  </thead>\n",
       "  <tbody>\n",
       "    <tr>\n",
       "      <th>0</th>\n",
       "      <td>2019-08-01</td>\n",
       "      <td>A</td>\n",
       "      <td>719</td>\n",
       "    </tr>\n",
       "    <tr>\n",
       "      <th>1</th>\n",
       "      <td>2019-08-02</td>\n",
       "      <td>A</td>\n",
       "      <td>619</td>\n",
       "    </tr>\n",
       "    <tr>\n",
       "      <th>2</th>\n",
       "      <td>2019-08-03</td>\n",
       "      <td>A</td>\n",
       "      <td>507</td>\n",
       "    </tr>\n",
       "    <tr>\n",
       "      <th>3</th>\n",
       "      <td>2019-08-04</td>\n",
       "      <td>A</td>\n",
       "      <td>717</td>\n",
       "    </tr>\n",
       "    <tr>\n",
       "      <th>4</th>\n",
       "      <td>2019-08-05</td>\n",
       "      <td>A</td>\n",
       "      <td>756</td>\n",
       "    </tr>\n",
       "    <tr>\n",
       "      <th>5</th>\n",
       "      <td>2019-08-06</td>\n",
       "      <td>A</td>\n",
       "      <td>667</td>\n",
       "    </tr>\n",
       "    <tr>\n",
       "      <th>6</th>\n",
       "      <td>2019-08-07</td>\n",
       "      <td>A</td>\n",
       "      <td>644</td>\n",
       "    </tr>\n",
       "    <tr>\n",
       "      <th>7</th>\n",
       "      <td>2019-08-08</td>\n",
       "      <td>A</td>\n",
       "      <td>610</td>\n",
       "    </tr>\n",
       "    <tr>\n",
       "      <th>8</th>\n",
       "      <td>2019-08-09</td>\n",
       "      <td>A</td>\n",
       "      <td>617</td>\n",
       "    </tr>\n",
       "    <tr>\n",
       "      <th>9</th>\n",
       "      <td>2019-08-10</td>\n",
       "      <td>A</td>\n",
       "      <td>406</td>\n",
       "    </tr>\n",
       "  </tbody>\n",
       "</table>\n",
       "</div>"
      ],
      "text/plain": [
       "         date group  visitors\n",
       "0  2019-08-01     A       719\n",
       "1  2019-08-02     A       619\n",
       "2  2019-08-03     A       507\n",
       "3  2019-08-04     A       717\n",
       "4  2019-08-05     A       756\n",
       "5  2019-08-06     A       667\n",
       "6  2019-08-07     A       644\n",
       "7  2019-08-08     A       610\n",
       "8  2019-08-09     A       617\n",
       "9  2019-08-10     A       406"
      ]
     },
     "execution_count": 7,
     "metadata": {},
     "output_type": "execute_result"
    }
   ],
   "source": [
    "#вывод первых строк\n",
    "visitors.head(10)"
   ]
  },
  {
   "cell_type": "code",
   "execution_count": 8,
   "metadata": {},
   "outputs": [
    {
     "name": "stdout",
     "output_type": "stream",
     "text": [
      "<class 'pandas.core.frame.DataFrame'>\n",
      "RangeIndex: 62 entries, 0 to 61\n",
      "Data columns (total 3 columns):\n",
      " #   Column    Non-Null Count  Dtype \n",
      "---  ------    --------------  ----- \n",
      " 0   date      62 non-null     object\n",
      " 1   group     62 non-null     object\n",
      " 2   visitors  62 non-null     int64 \n",
      "dtypes: int64(1), object(2)\n",
      "memory usage: 1.6+ KB\n"
     ]
    }
   ],
   "source": [
    "#общая информация \n",
    "visitors.info()"
   ]
  },
  {
   "cell_type": "markdown",
   "metadata": {},
   "source": [
    "Промежуточный вывод по посетителям:\n",
    "\n",
    "Значений: 62, Колонок: 3\n",
    "\n",
    "date - название правильное, тип данных поменять на datetime\n",
    "\n",
    "group - название правильное, тип данных правильный\n",
    "\n",
    "visitors - название правильное, тип данных правильный"
   ]
  },
  {
   "cell_type": "markdown",
   "metadata": {},
   "source": [
    "## Изменение названий, изменение типов данных, проверка на пропуски и дубликаты"
   ]
  },
  {
   "cell_type": "markdown",
   "metadata": {},
   "source": [
    "### изменение названий столбцов "
   ]
  },
  {
   "cell_type": "markdown",
   "metadata": {},
   "source": [
    "#### hypothesis"
   ]
  },
  {
   "cell_type": "code",
   "execution_count": 9,
   "metadata": {},
   "outputs": [],
   "source": [
    "hypothesis.columns = map(str.lower, hypothesis.columns)"
   ]
  },
  {
   "cell_type": "code",
   "execution_count": 10,
   "metadata": {},
   "outputs": [
    {
     "name": "stdout",
     "output_type": "stream",
     "text": [
      "Index(['hypothesis', 'reach', 'impact', 'confidence', 'efforts'], dtype='object')\n"
     ]
    }
   ],
   "source": [
    "#проверка\n",
    "print(hypothesis.columns)"
   ]
  },
  {
   "cell_type": "markdown",
   "metadata": {},
   "source": [
    "#### orders"
   ]
  },
  {
   "cell_type": "code",
   "execution_count": 11,
   "metadata": {},
   "outputs": [],
   "source": [
    "orders.rename(columns={'transactionId': 'transaction_id', 'visitorId': 'visitor_id'}, inplace=True)"
   ]
  },
  {
   "cell_type": "code",
   "execution_count": 12,
   "metadata": {},
   "outputs": [
    {
     "name": "stdout",
     "output_type": "stream",
     "text": [
      "Index(['transaction_id', 'visitor_id', 'date', 'revenue', 'group'], dtype='object')\n"
     ]
    }
   ],
   "source": [
    "#проверка\n",
    "print(orders.columns)"
   ]
  },
  {
   "cell_type": "markdown",
   "metadata": {},
   "source": [
    "### изменение типов данных"
   ]
  },
  {
   "cell_type": "code",
   "execution_count": 13,
   "metadata": {},
   "outputs": [],
   "source": [
    "orders['date'] = pd.to_datetime(orders['date'])\n",
    "visitors['date'] = pd.to_datetime(visitors['date'])"
   ]
  },
  {
   "cell_type": "code",
   "execution_count": 14,
   "metadata": {},
   "outputs": [
    {
     "name": "stdout",
     "output_type": "stream",
     "text": [
      "<class 'pandas.core.frame.DataFrame'>\n",
      "RangeIndex: 1197 entries, 0 to 1196\n",
      "Data columns (total 5 columns):\n",
      " #   Column          Non-Null Count  Dtype         \n",
      "---  ------          --------------  -----         \n",
      " 0   transaction_id  1197 non-null   int64         \n",
      " 1   visitor_id      1197 non-null   int64         \n",
      " 2   date            1197 non-null   datetime64[ns]\n",
      " 3   revenue         1197 non-null   int64         \n",
      " 4   group           1197 non-null   object        \n",
      "dtypes: datetime64[ns](1), int64(3), object(1)\n",
      "memory usage: 46.9+ KB\n"
     ]
    }
   ],
   "source": [
    "#проверка\n",
    "orders.info()"
   ]
  },
  {
   "cell_type": "code",
   "execution_count": 15,
   "metadata": {},
   "outputs": [
    {
     "name": "stdout",
     "output_type": "stream",
     "text": [
      "<class 'pandas.core.frame.DataFrame'>\n",
      "RangeIndex: 62 entries, 0 to 61\n",
      "Data columns (total 3 columns):\n",
      " #   Column    Non-Null Count  Dtype         \n",
      "---  ------    --------------  -----         \n",
      " 0   date      62 non-null     datetime64[ns]\n",
      " 1   group     62 non-null     object        \n",
      " 2   visitors  62 non-null     int64         \n",
      "dtypes: datetime64[ns](1), int64(1), object(1)\n",
      "memory usage: 1.6+ KB\n"
     ]
    }
   ],
   "source": [
    "#проверка\n",
    "visitors.info()"
   ]
  },
  {
   "cell_type": "markdown",
   "metadata": {},
   "source": [
    "### проверка на пропуски и дубликаты"
   ]
  },
  {
   "cell_type": "markdown",
   "metadata": {},
   "source": [
    "#### hypothesis"
   ]
  },
  {
   "cell_type": "code",
   "execution_count": 16,
   "metadata": {},
   "outputs": [
    {
     "name": "stdout",
     "output_type": "stream",
     "text": [
      "Пропуски в датафрейме:\n",
      "hypothesis    0\n",
      "reach         0\n",
      "impact        0\n",
      "confidence    0\n",
      "efforts       0\n",
      "dtype: int64\n",
      "\n",
      "Количество дубликатов в датафрейме: 0\n"
     ]
    }
   ],
   "source": [
    "# Проверка пропусков\n",
    "missing_values_h = hypothesis.isnull().sum()\n",
    "print(\"Пропуски в датафрейме:\")\n",
    "print(missing_values_h)\n",
    "\n",
    "# Проверка дубликатов\n",
    "duplicate_rows_h = hypothesis.duplicated().sum()\n",
    "print(\"\\nКоличество дубликатов в датафрейме:\", duplicate_rows_h)"
   ]
  },
  {
   "cell_type": "markdown",
   "metadata": {},
   "source": [
    "#### orders"
   ]
  },
  {
   "cell_type": "code",
   "execution_count": 17,
   "metadata": {},
   "outputs": [
    {
     "name": "stdout",
     "output_type": "stream",
     "text": [
      "Пропуски в датафрейме:\n",
      "transaction_id    0\n",
      "visitor_id        0\n",
      "date              0\n",
      "revenue           0\n",
      "group             0\n",
      "dtype: int64\n",
      "\n",
      "Количество дубликатов в датафрейме: 0\n"
     ]
    }
   ],
   "source": [
    "# Проверка пропусков\n",
    "missing_values_o = orders.isnull().sum()\n",
    "print(\"Пропуски в датафрейме:\")\n",
    "print(missing_values_o)\n",
    "\n",
    "# Проверка дубликатов\n",
    "duplicate_rows_o = orders.duplicated().sum()\n",
    "print(\"\\nКоличество дубликатов в датафрейме:\", duplicate_rows_o)"
   ]
  },
  {
   "cell_type": "markdown",
   "metadata": {},
   "source": [
    "#### visitors"
   ]
  },
  {
   "cell_type": "code",
   "execution_count": 18,
   "metadata": {},
   "outputs": [
    {
     "name": "stdout",
     "output_type": "stream",
     "text": [
      "Пропуски в датафрейме:\n",
      "date        0\n",
      "group       0\n",
      "visitors    0\n",
      "dtype: int64\n",
      "\n",
      "Количество дубликатов в датафрейме: 0\n"
     ]
    }
   ],
   "source": [
    "# Проверка пропусков\n",
    "missing_values_v = visitors.isnull().sum()\n",
    "print(\"Пропуски в датафрейме:\")\n",
    "print(missing_values_v)\n",
    "\n",
    "# Проверка дубликатов\n",
    "duplicate_rows_v = visitors.duplicated().sum()\n",
    "print(\"\\nКоличество дубликатов в датафрейме:\", duplicate_rows_v)"
   ]
  },
  {
   "cell_type": "markdown",
   "metadata": {},
   "source": [
    "В ходе предобработки данных: \n",
    "\n",
    "Изменили названия столбцов (нижний регистр + пробелы)\n",
    "\n",
    "Изменили типы данных (там где date, привели к datetime)\n",
    "\n",
    "Проверили на пропуски и дубликаты - не обнаружено в трёх датафреймах."
   ]
  },
  {
   "cell_type": "markdown",
   "metadata": {},
   "source": [
    "## Приоритизация гипотез"
   ]
  },
  {
   "cell_type": "markdown",
   "metadata": {},
   "source": [
    "### Примените фреймворк ICE для приоритизации гипотез. Отсортируйте их по убыванию приоритета."
   ]
  },
  {
   "cell_type": "code",
   "execution_count": 19,
   "metadata": {},
   "outputs": [
    {
     "data": {
      "text/html": [
       "<div>\n",
       "<style scoped>\n",
       "    .dataframe tbody tr th:only-of-type {\n",
       "        vertical-align: middle;\n",
       "    }\n",
       "\n",
       "    .dataframe tbody tr th {\n",
       "        vertical-align: top;\n",
       "    }\n",
       "\n",
       "    .dataframe thead th {\n",
       "        text-align: right;\n",
       "    }\n",
       "</style>\n",
       "<table border=\"1\" class=\"dataframe\">\n",
       "  <thead>\n",
       "    <tr style=\"text-align: right;\">\n",
       "      <th></th>\n",
       "      <th>hypothesis</th>\n",
       "      <th>reach</th>\n",
       "      <th>impact</th>\n",
       "      <th>confidence</th>\n",
       "      <th>efforts</th>\n",
       "      <th>ICE</th>\n",
       "    </tr>\n",
       "  </thead>\n",
       "  <tbody>\n",
       "    <tr>\n",
       "      <th>8</th>\n",
       "      <td>Запустить акцию, дающую скидку на товар в день рождения</td>\n",
       "      <td>1</td>\n",
       "      <td>9</td>\n",
       "      <td>9</td>\n",
       "      <td>5</td>\n",
       "      <td>16.2</td>\n",
       "    </tr>\n",
       "    <tr>\n",
       "      <th>0</th>\n",
       "      <td>Добавить два новых канала привлечения трафика, что позволит привлекать на 30% больше пользователей</td>\n",
       "      <td>3</td>\n",
       "      <td>10</td>\n",
       "      <td>8</td>\n",
       "      <td>6</td>\n",
       "      <td>13.3</td>\n",
       "    </tr>\n",
       "    <tr>\n",
       "      <th>7</th>\n",
       "      <td>Добавить форму подписки на все основные страницы, чтобы собрать базу клиентов для email-рассылок</td>\n",
       "      <td>10</td>\n",
       "      <td>7</td>\n",
       "      <td>8</td>\n",
       "      <td>5</td>\n",
       "      <td>11.2</td>\n",
       "    </tr>\n",
       "    <tr>\n",
       "      <th>6</th>\n",
       "      <td>Показать на главной странице баннеры с актуальными акциями и распродажами, чтобы увеличить конве...</td>\n",
       "      <td>5</td>\n",
       "      <td>3</td>\n",
       "      <td>8</td>\n",
       "      <td>3</td>\n",
       "      <td>8.0</td>\n",
       "    </tr>\n",
       "    <tr>\n",
       "      <th>2</th>\n",
       "      <td>Добавить блоки рекомендаций товаров на сайт интернет магазина, чтобы повысить конверсию и средни...</td>\n",
       "      <td>8</td>\n",
       "      <td>3</td>\n",
       "      <td>7</td>\n",
       "      <td>3</td>\n",
       "      <td>7.0</td>\n",
       "    </tr>\n",
       "    <tr>\n",
       "      <th>1</th>\n",
       "      <td>Запустить собственную службу доставки, что сократит срок доставки заказов</td>\n",
       "      <td>2</td>\n",
       "      <td>5</td>\n",
       "      <td>4</td>\n",
       "      <td>10</td>\n",
       "      <td>2.0</td>\n",
       "    </tr>\n",
       "    <tr>\n",
       "      <th>5</th>\n",
       "      <td>Добавить страницу отзывов клиентов о магазине, что позволит увеличить количество заказов</td>\n",
       "      <td>3</td>\n",
       "      <td>2</td>\n",
       "      <td>2</td>\n",
       "      <td>3</td>\n",
       "      <td>1.3</td>\n",
       "    </tr>\n",
       "    <tr>\n",
       "      <th>3</th>\n",
       "      <td>Изменить структура категорий, что увеличит конверсию, т.к. пользователи быстрее найдут нужный товар</td>\n",
       "      <td>8</td>\n",
       "      <td>3</td>\n",
       "      <td>3</td>\n",
       "      <td>8</td>\n",
       "      <td>1.1</td>\n",
       "    </tr>\n",
       "    <tr>\n",
       "      <th>4</th>\n",
       "      <td>Изменить цвет фона главной страницы, чтобы увеличить вовлеченность пользователей</td>\n",
       "      <td>3</td>\n",
       "      <td>1</td>\n",
       "      <td>1</td>\n",
       "      <td>1</td>\n",
       "      <td>1.0</td>\n",
       "    </tr>\n",
       "  </tbody>\n",
       "</table>\n",
       "</div>"
      ],
      "text/plain": [
       "                                                                                            hypothesis  \\\n",
       "8                                              Запустить акцию, дающую скидку на товар в день рождения   \n",
       "0   Добавить два новых канала привлечения трафика, что позволит привлекать на 30% больше пользователей   \n",
       "7     Добавить форму подписки на все основные страницы, чтобы собрать базу клиентов для email-рассылок   \n",
       "6  Показать на главной странице баннеры с актуальными акциями и распродажами, чтобы увеличить конве...   \n",
       "2  Добавить блоки рекомендаций товаров на сайт интернет магазина, чтобы повысить конверсию и средни...   \n",
       "1                            Запустить собственную службу доставки, что сократит срок доставки заказов   \n",
       "5             Добавить страницу отзывов клиентов о магазине, что позволит увеличить количество заказов   \n",
       "3  Изменить структура категорий, что увеличит конверсию, т.к. пользователи быстрее найдут нужный товар   \n",
       "4                     Изменить цвет фона главной страницы, чтобы увеличить вовлеченность пользователей   \n",
       "\n",
       "   reach  impact  confidence  efforts   ICE  \n",
       "8      1       9           9        5  16.2  \n",
       "0      3      10           8        6  13.3  \n",
       "7     10       7           8        5  11.2  \n",
       "6      5       3           8        3   8.0  \n",
       "2      8       3           7        3   7.0  \n",
       "1      2       5           4       10   2.0  \n",
       "5      3       2           2        3   1.3  \n",
       "3      8       3           3        8   1.1  \n",
       "4      3       1           1        1   1.0  "
      ]
     },
     "execution_count": 19,
     "metadata": {},
     "output_type": "execute_result"
    }
   ],
   "source": [
    "hypothesis['ICE'] = ((hypothesis['impact'] * hypothesis['confidence']) / hypothesis['efforts']).round(1)\n",
    "\n",
    "sorted_hypotheses_ice = hypothesis.sort_values(by='ICE', ascending=False)\n",
    "sorted_hypotheses_ice"
   ]
  },
  {
   "cell_type": "markdown",
   "metadata": {},
   "source": [
    "Лидируют гипотезы: 'Запустить акцию, дающую скидку на товар в день рождения', 'Добавить два новых канала привлечения трафика, что позволит привлекать на 30% больше пользователей' и 'Добавить форму подписки на все основные страницы, чтобы собрать базу клиентов для email-рассылок' в то время, как гипотезы 'Добавить страницу отзывов клиентов о магазине, что позволит увеличить количество заказов', 'Изменить структура категорий, что увеличит конверсию, т.к. пользователи быстрее найдут нужный товар' и 'Изменить цвет фона главной страницы, чтобы увеличить вовлеченность пользователей' остались внизу по метрике ICE."
   ]
  },
  {
   "cell_type": "markdown",
   "metadata": {},
   "source": [
    "### Примените фреймворк RICE для приоритизации гипотез. Отсортируйте их по убыванию приоритета"
   ]
  },
  {
   "cell_type": "code",
   "execution_count": 20,
   "metadata": {},
   "outputs": [
    {
     "data": {
      "text/html": [
       "<div>\n",
       "<style scoped>\n",
       "    .dataframe tbody tr th:only-of-type {\n",
       "        vertical-align: middle;\n",
       "    }\n",
       "\n",
       "    .dataframe tbody tr th {\n",
       "        vertical-align: top;\n",
       "    }\n",
       "\n",
       "    .dataframe thead th {\n",
       "        text-align: right;\n",
       "    }\n",
       "</style>\n",
       "<table border=\"1\" class=\"dataframe\">\n",
       "  <thead>\n",
       "    <tr style=\"text-align: right;\">\n",
       "      <th></th>\n",
       "      <th>hypothesis</th>\n",
       "      <th>reach</th>\n",
       "      <th>impact</th>\n",
       "      <th>confidence</th>\n",
       "      <th>efforts</th>\n",
       "      <th>ICE</th>\n",
       "      <th>RICE</th>\n",
       "    </tr>\n",
       "  </thead>\n",
       "  <tbody>\n",
       "    <tr>\n",
       "      <th>7</th>\n",
       "      <td>Добавить форму подписки на все основные страницы, чтобы собрать базу клиентов для email-рассылок</td>\n",
       "      <td>10</td>\n",
       "      <td>7</td>\n",
       "      <td>8</td>\n",
       "      <td>5</td>\n",
       "      <td>11.2</td>\n",
       "      <td>112.0</td>\n",
       "    </tr>\n",
       "    <tr>\n",
       "      <th>2</th>\n",
       "      <td>Добавить блоки рекомендаций товаров на сайт интернет магазина, чтобы повысить конверсию и средни...</td>\n",
       "      <td>8</td>\n",
       "      <td>3</td>\n",
       "      <td>7</td>\n",
       "      <td>3</td>\n",
       "      <td>7.0</td>\n",
       "      <td>56.0</td>\n",
       "    </tr>\n",
       "    <tr>\n",
       "      <th>0</th>\n",
       "      <td>Добавить два новых канала привлечения трафика, что позволит привлекать на 30% больше пользователей</td>\n",
       "      <td>3</td>\n",
       "      <td>10</td>\n",
       "      <td>8</td>\n",
       "      <td>6</td>\n",
       "      <td>13.3</td>\n",
       "      <td>40.0</td>\n",
       "    </tr>\n",
       "    <tr>\n",
       "      <th>6</th>\n",
       "      <td>Показать на главной странице баннеры с актуальными акциями и распродажами, чтобы увеличить конве...</td>\n",
       "      <td>5</td>\n",
       "      <td>3</td>\n",
       "      <td>8</td>\n",
       "      <td>3</td>\n",
       "      <td>8.0</td>\n",
       "      <td>40.0</td>\n",
       "    </tr>\n",
       "    <tr>\n",
       "      <th>8</th>\n",
       "      <td>Запустить акцию, дающую скидку на товар в день рождения</td>\n",
       "      <td>1</td>\n",
       "      <td>9</td>\n",
       "      <td>9</td>\n",
       "      <td>5</td>\n",
       "      <td>16.2</td>\n",
       "      <td>16.2</td>\n",
       "    </tr>\n",
       "    <tr>\n",
       "      <th>3</th>\n",
       "      <td>Изменить структура категорий, что увеличит конверсию, т.к. пользователи быстрее найдут нужный товар</td>\n",
       "      <td>8</td>\n",
       "      <td>3</td>\n",
       "      <td>3</td>\n",
       "      <td>8</td>\n",
       "      <td>1.1</td>\n",
       "      <td>9.0</td>\n",
       "    </tr>\n",
       "    <tr>\n",
       "      <th>1</th>\n",
       "      <td>Запустить собственную службу доставки, что сократит срок доставки заказов</td>\n",
       "      <td>2</td>\n",
       "      <td>5</td>\n",
       "      <td>4</td>\n",
       "      <td>10</td>\n",
       "      <td>2.0</td>\n",
       "      <td>4.0</td>\n",
       "    </tr>\n",
       "    <tr>\n",
       "      <th>5</th>\n",
       "      <td>Добавить страницу отзывов клиентов о магазине, что позволит увеличить количество заказов</td>\n",
       "      <td>3</td>\n",
       "      <td>2</td>\n",
       "      <td>2</td>\n",
       "      <td>3</td>\n",
       "      <td>1.3</td>\n",
       "      <td>4.0</td>\n",
       "    </tr>\n",
       "    <tr>\n",
       "      <th>4</th>\n",
       "      <td>Изменить цвет фона главной страницы, чтобы увеличить вовлеченность пользователей</td>\n",
       "      <td>3</td>\n",
       "      <td>1</td>\n",
       "      <td>1</td>\n",
       "      <td>1</td>\n",
       "      <td>1.0</td>\n",
       "      <td>3.0</td>\n",
       "    </tr>\n",
       "  </tbody>\n",
       "</table>\n",
       "</div>"
      ],
      "text/plain": [
       "                                                                                            hypothesis  \\\n",
       "7     Добавить форму подписки на все основные страницы, чтобы собрать базу клиентов для email-рассылок   \n",
       "2  Добавить блоки рекомендаций товаров на сайт интернет магазина, чтобы повысить конверсию и средни...   \n",
       "0   Добавить два новых канала привлечения трафика, что позволит привлекать на 30% больше пользователей   \n",
       "6  Показать на главной странице баннеры с актуальными акциями и распродажами, чтобы увеличить конве...   \n",
       "8                                              Запустить акцию, дающую скидку на товар в день рождения   \n",
       "3  Изменить структура категорий, что увеличит конверсию, т.к. пользователи быстрее найдут нужный товар   \n",
       "1                            Запустить собственную службу доставки, что сократит срок доставки заказов   \n",
       "5             Добавить страницу отзывов клиентов о магазине, что позволит увеличить количество заказов   \n",
       "4                     Изменить цвет фона главной страницы, чтобы увеличить вовлеченность пользователей   \n",
       "\n",
       "   reach  impact  confidence  efforts   ICE   RICE  \n",
       "7     10       7           8        5  11.2  112.0  \n",
       "2      8       3           7        3   7.0   56.0  \n",
       "0      3      10           8        6  13.3   40.0  \n",
       "6      5       3           8        3   8.0   40.0  \n",
       "8      1       9           9        5  16.2   16.2  \n",
       "3      8       3           3        8   1.1    9.0  \n",
       "1      2       5           4       10   2.0    4.0  \n",
       "5      3       2           2        3   1.3    4.0  \n",
       "4      3       1           1        1   1.0    3.0  "
      ]
     },
     "execution_count": 20,
     "metadata": {},
     "output_type": "execute_result"
    }
   ],
   "source": [
    "\n",
    "hypothesis['RICE'] = ((hypothesis['reach'] * hypothesis['impact'] * hypothesis['confidence']) / hypothesis['efforts']).round(1)\n",
    "\n",
    "sorted_hypotheses_rice = hypothesis.sort_values(by='RICE', ascending=False)\n",
    "sorted_hypotheses_rice"
   ]
  },
  {
   "cell_type": "markdown",
   "metadata": {},
   "source": [
    "Тут уже в можно отметить гипотезы: \"Добавить форму подписки на все основные страницы, чтобы собрать базу клиентов для email-рассылок\" и \"Добавить блоки рекомендаций товаров на сайт интернет магазина, чтобы повысить конверсию и средниий чек\". В конце списка по метрике RICE находятся следующие гипотезы: \"Запустить собственную службу доставки, что сократит срок доставки заказов\", \"Добавить страницу отзывов клиентов о магазине, что позволит увеличить количество заказов\" и \"Изменить цвет фона главной страницы, чтобы увеличить вовлеченность пользователей\"."
   ]
  },
  {
   "cell_type": "markdown",
   "metadata": {},
   "source": [
    "### Укажите, как изменилась приоритизация гипотез при применении RICE вместо ICE. Объясните, почему так произошло."
   ]
  },
  {
   "cell_type": "markdown",
   "metadata": {},
   "source": [
    "В расчете RICE мы учитываем новый параметр - reach (скольких пользователей затронет изменение, которое мы хотим внести) и в гипотезах \"Добавить форму подписки на все основные страницы, чтобы собрать базу клиентов для email-рассылок\" и \"Добавить блоки рекомендаций товаров на сайт интернет магазина, чтобы повысить конверсию и средний чек\" этот параметр достигает 10/10 и 8/10 - что очень высокий показатель - поэтому эти гипотезы в лидерах \n",
    "\n",
    "Анализируя общие таблицы, высокие позиции занимают следующие гипотезы: \"Добавить два новых канала привлечения трафика, что позволит привлекать на 30% больше пользователей\", \"Добавить блоки рекомендаций товаров на сайт интернет магазина, чтобы повысить конверсию и средний чек\" и \"Добавить форму подписки на все основные страницы, чтобы собрать базу клиентов для email-рассылок\" т.к они не сильно проседают в параметре RICE относительно ICE."
   ]
  },
  {
   "cell_type": "markdown",
   "metadata": {},
   "source": [
    "## Анализ A/B-теста"
   ]
  },
  {
   "cell_type": "markdown",
   "metadata": {},
   "source": [
    "### Постройте график кумулятивной выручки по группам. Сделайте выводы и предположения."
   ]
  },
  {
   "cell_type": "code",
   "execution_count": 21,
   "metadata": {},
   "outputs": [
    {
     "data": {
      "text/html": [
       "<div>\n",
       "<style scoped>\n",
       "    .dataframe tbody tr th:only-of-type {\n",
       "        vertical-align: middle;\n",
       "    }\n",
       "\n",
       "    .dataframe tbody tr th {\n",
       "        vertical-align: top;\n",
       "    }\n",
       "\n",
       "    .dataframe thead th {\n",
       "        text-align: right;\n",
       "    }\n",
       "</style>\n",
       "<table border=\"1\" class=\"dataframe\">\n",
       "  <thead>\n",
       "    <tr style=\"text-align: right;\">\n",
       "      <th></th>\n",
       "      <th>date</th>\n",
       "      <th>group</th>\n",
       "      <th>orders</th>\n",
       "      <th>purchaser</th>\n",
       "      <th>revenue</th>\n",
       "      <th>visitors</th>\n",
       "    </tr>\n",
       "  </thead>\n",
       "  <tbody>\n",
       "    <tr>\n",
       "      <th>0</th>\n",
       "      <td>2019-08-01</td>\n",
       "      <td>A</td>\n",
       "      <td>24</td>\n",
       "      <td>20</td>\n",
       "      <td>148579</td>\n",
       "      <td>719</td>\n",
       "    </tr>\n",
       "    <tr>\n",
       "      <th>1</th>\n",
       "      <td>2019-08-01</td>\n",
       "      <td>B</td>\n",
       "      <td>21</td>\n",
       "      <td>20</td>\n",
       "      <td>101217</td>\n",
       "      <td>713</td>\n",
       "    </tr>\n",
       "    <tr>\n",
       "      <th>2</th>\n",
       "      <td>2019-08-02</td>\n",
       "      <td>A</td>\n",
       "      <td>44</td>\n",
       "      <td>38</td>\n",
       "      <td>242401</td>\n",
       "      <td>1338</td>\n",
       "    </tr>\n",
       "    <tr>\n",
       "      <th>3</th>\n",
       "      <td>2019-08-02</td>\n",
       "      <td>B</td>\n",
       "      <td>45</td>\n",
       "      <td>43</td>\n",
       "      <td>266748</td>\n",
       "      <td>1294</td>\n",
       "    </tr>\n",
       "    <tr>\n",
       "      <th>4</th>\n",
       "      <td>2019-08-03</td>\n",
       "      <td>A</td>\n",
       "      <td>68</td>\n",
       "      <td>62</td>\n",
       "      <td>354874</td>\n",
       "      <td>1845</td>\n",
       "    </tr>\n",
       "  </tbody>\n",
       "</table>\n",
       "</div>"
      ],
      "text/plain": [
       "        date group  orders  purchaser  revenue  visitors\n",
       "0 2019-08-01     A      24         20   148579       719\n",
       "1 2019-08-01     B      21         20   101217       713\n",
       "2 2019-08-02     A      44         38   242401      1338\n",
       "3 2019-08-02     B      45         43   266748      1294\n",
       "4 2019-08-03     A      68         62   354874      1845"
      ]
     },
     "execution_count": 21,
     "metadata": {},
     "output_type": "execute_result"
    }
   ],
   "source": [
    "dates_groups = orders[['date','group']].drop_duplicates()\n",
    "\n",
    "orders_aggregated = dates_groups.apply(lambda x: orders[np.logical_and(orders['date'] <= x['date'], orders['group'] == x['group'])]. \\\n",
    "                                     agg({'date' : 'max', \n",
    "                                          'group' : 'max', \n",
    "                                          'transaction_id' : pd.Series.nunique, \n",
    "                                          'visitor_id' : pd.Series.nunique, \n",
    "                                          'revenue' : 'sum'}), axis=1).sort_values(by=['date','group'])\n",
    "\n",
    "visitors_aggregated = dates_groups.apply(lambda x: visitors[np.logical_and(visitors['date'] <= x['date'], visitors['group'] == x['group'])]. \\\n",
    "                                       agg({'date' : 'max', \n",
    "                                            'group' : 'max', \n",
    "                                            'visitors' : 'sum'}), axis=1).sort_values(by=['date','group'])\n",
    "\n",
    "cumulative_data = orders_aggregated.merge(visitors_aggregated, left_on=['date', 'group'], right_on=['date', 'group'])\n",
    "cumulative_data.columns = ['date', 'group', 'orders', 'purchaser', 'revenue', 'visitors']\n",
    "\n",
    "cumulative_data.head(5)"
   ]
  },
  {
   "cell_type": "markdown",
   "metadata": {},
   "source": [
    "### Проверка корректности создания датафрейма cumulative_data (вычислим максимальную и минимальную дату в cumulative_data и исходных данных)."
   ]
  },
  {
   "cell_type": "markdown",
   "metadata": {},
   "source": [
    "#### исходные данные"
   ]
  },
  {
   "cell_type": "code",
   "execution_count": 39,
   "metadata": {},
   "outputs": [
    {
     "name": "stdout",
     "output_type": "stream",
     "text": [
      "Минимальная дата: 2019-08-01 00:00:00\n",
      "Максимальная дата: 2019-08-31 00:00:00\n"
     ]
    }
   ],
   "source": [
    "min_date = orders['date'].min()\n",
    "max_date = orders['date'].max()\n",
    "\n",
    "# Выведите результаты\n",
    "print(\"Минимальная дата:\", min_date)\n",
    "print(\"Максимальная дата:\", max_date)"
   ]
  },
  {
   "cell_type": "markdown",
   "metadata": {},
   "source": [
    "#### cumulative_data"
   ]
  },
  {
   "cell_type": "code",
   "execution_count": 41,
   "metadata": {},
   "outputs": [
    {
     "name": "stdout",
     "output_type": "stream",
     "text": [
      "Минимальная дата: 2019-08-01 00:00:00\n",
      "Максимальная дата: 2019-08-31 00:00:00\n"
     ]
    }
   ],
   "source": [
    "min_date_c = cumulative_data['date'].min()\n",
    "max_date_c = cumulative_data['date'].max()\n",
    "\n",
    "# Выведите результаты\n",
    "print(\"Минимальная дата:\", min_date_c)\n",
    "print(\"Максимальная дата:\", max_date_c)"
   ]
  },
  {
   "cell_type": "markdown",
   "metadata": {},
   "source": [
    "Минимальная и максимальная даты созданного датафрейма совпадают с минимальной и максимальной датами исходного датафрейма"
   ]
  },
  {
   "cell_type": "code",
   "execution_count": 22,
   "metadata": {},
   "outputs": [
    {
     "data": {
      "image/png": "[encoded data removed]",
      "text/plain": [
       "<Figure size 864x432 with 1 Axes>"
      ]
     },
     "metadata": {
      "needs_background": "light"
     },
     "output_type": "display_data"
    }
   ],
   "source": [
    "plt.figure(figsize=(12, 6))\n",
    "plt.plot(cumulative_data[cumulative_data['group'] == 'A']['date'], cumulative_data[cumulative_data['group'] == 'A']['revenue'], label='Группа A')\n",
    "\n",
    "# Построение графика выручки для группы B\n",
    "plt.plot(cumulative_data[cumulative_data['group'] == 'B']['date'], cumulative_data[cumulative_data['group'] == 'B']['revenue'], label='Группа B')\n",
    "\n",
    "plt.title('Кумулятивная выручка по группам')\n",
    "plt.xlabel('Дата')\n",
    "plt.ylabel('Кумулятивная выручка')\n",
    "plt.legend()\n",
    "plt.grid(True)\n",
    "plt.show()"
   ]
  },
  {
   "cell_type": "markdown",
   "metadata": {},
   "source": [
    "Группа В росла быстрее, 13-го числа группы почти сравнялись, но к концу месяца группа B ушла в отрыв по выручке. Также можно увидеть, что с 18 по 19 число было аномальное значение, возможно в этот день был какой-то дорогой заказ у группы В."
   ]
  },
  {
   "cell_type": "markdown",
   "metadata": {},
   "source": [
    "### Постройте график кумулятивного среднего чека по группам. Сделайте выводы и предположения."
   ]
  },
  {
   "cell_type": "code",
   "execution_count": 23,
   "metadata": {},
   "outputs": [
    {
     "data": {
      "image/png": "[encoded data removed]",
      "text/plain": [
       "<Figure size 864x432 with 1 Axes>"
      ]
     },
     "metadata": {
      "needs_background": "light"
     },
     "output_type": "display_data"
    }
   ],
   "source": [
    "\n",
    "# Рассчет кумулятивного среднего чека\n",
    "cumulative_data['average_check'] = cumulative_data['revenue'] / cumulative_data['orders']\n",
    "\n",
    "# Построение графика для группы A\n",
    "plt.figure(figsize=(12, 6))\n",
    "plt.plot(cumulative_data[cumulative_data['group'] == 'A']['date'], cumulative_data[cumulative_data['group'] == 'A']['average_check'], label='Группа A')\n",
    "\n",
    "# Построение графика  для группы B\n",
    "plt.plot(cumulative_data[cumulative_data['group'] == 'B']['date'], cumulative_data[cumulative_data['group'] == 'B']['average_check'], label='Группа B')\n",
    "\n",
    "plt.title('Кумулятивный средний чек по группам')\n",
    "plt.xlabel('Дата')\n",
    "plt.ylabel('Кумулятивный средний чек')\n",
    "plt.legend()\n",
    "plt.grid(True)\n",
    "plt.show()\n"
   ]
  },
  {
   "cell_type": "markdown",
   "metadata": {},
   "source": [
    "Тут ситуация сложнее, где-то средний чек больше у группы А, где-то у Б, с 18 по 19 опять же можно увидеть, что был сделан какой-то аномально крупный заказ, который и дал прирост группе B. Но график А наоборот, идет стабильно с 17 числа, не было аномально крупных заказов."
   ]
  },
  {
   "cell_type": "markdown",
   "metadata": {},
   "source": [
    "### Постройте график относительного изменения кумулятивного среднего чека группы B к группе A. Сделайте выводы и предположения."
   ]
  },
  {
   "cell_type": "code",
   "execution_count": 24,
   "metadata": {},
   "outputs": [
    {
     "data": {
      "image/png": "[encoded data removed]",
      "text/plain": [
       "<Figure size 864x432 with 1 Axes>"
      ]
     },
     "metadata": {
      "needs_background": "light"
     },
     "output_type": "display_data"
    }
   ],
   "source": [
    "# Объединение данных кумулятивных средних чеков для групп A и B\n",
    "cumulative_avg_check_A = cumulative_data[cumulative_data['group'] == 'A'][['date', 'average_check']]\n",
    "cumulative_avg_check_B = cumulative_data[cumulative_data['group'] == 'B'][['date', 'average_check']]\n",
    "merged_cumulative_avg_check = cumulative_avg_check_A.merge(cumulative_avg_check_B, on='date', suffixes=('_A', '_B'))\n",
    "\n",
    "# Рассчет относительного изменения кумулятивного среднего чека группы B к группе A\n",
    "merged_cumulative_avg_check['relative_change'] = (merged_cumulative_avg_check['average_check_B'] / merged_cumulative_avg_check['average_check_A']) - 1\n",
    "\n",
    "# Построение графика относительного изменения кумулятивного среднего чека\n",
    "plt.figure(figsize=(12, 6))\n",
    "plt.plot(merged_cumulative_avg_check['date'], merged_cumulative_avg_check['relative_change'], label='Относительное изменение среднего чека B к A', color='purple')\n",
    "\n",
    "plt.axhline(y=0, color='black', linestyle='--', label='Базовая линия')\n",
    "\n",
    "plt.title('Относительное изменение кумулятивного среднего чека B к A')\n",
    "plt.xlabel('Дата')\n",
    "plt.ylabel('Относительное изменение')\n",
    "plt.legend()\n",
    "plt.grid(True)\n",
    "plt.show()\n"
   ]
  },
  {
   "cell_type": "markdown",
   "metadata": {},
   "source": [
    "График зависит от предыдущего пункта. 13 числа группа А была выше, а так как у нас обратная пропорция, тут видна просадка. Тут также наблюдается редкий взлет 18-19 числа из-за аномальной покупки."
   ]
  },
  {
   "cell_type": "markdown",
   "metadata": {},
   "source": [
    "### Постройте график кумулятивного среднего количества заказов на посетителя по группам. Сделайте выводы и предположения."
   ]
  },
  {
   "cell_type": "code",
   "execution_count": 42,
   "metadata": {},
   "outputs": [
    {
     "data": {
      "image/png": "[encoded data removed]",
      "text/plain": [
       "<Figure size 864x432 with 1 Axes>"
      ]
     },
     "metadata": {
      "needs_background": "light"
     },
     "output_type": "display_data"
    }
   ],
   "source": [
    "cumulative_data['conversion'] = cumulative_data['orders'] / cumulative_data['visitors']\n",
    "\n",
    "cumulative_data_a = cumulative_data[cumulative_data['group'] == 'A']\n",
    "cumulative_data_b = cumulative_data[cumulative_data['group'] == 'B']\n",
    "\n",
    "plt.figure(figsize=(12, 6))\n",
    "plt.grid()\n",
    "plt.plot(cumulative_data_a['date'], cumulative_data_a['conversion'], label='Группа А')\n",
    "plt.plot(cumulative_data_b['date'], cumulative_data_b['conversion'], label='Группа В')\n",
    "\n",
    "plt.xlabel('Дата')\n",
    "plt.ylabel('Конверсия')\n",
    "\n",
    "plt.title('Кумулятивное среднее кол-во заказов на посетителя')\n",
    "plt.legend()\n",
    "plt.show()\n",
    "\n"
   ]
  },
  {
   "cell_type": "markdown",
   "metadata": {},
   "source": [
    "В начале месяца среднее значение группы А было намного больше, 3-го числа даже достигло своего пика, но с 4 числа пошло на спад. Группа Б была нестабильно относительно  в начале месяца (до 11-12 числа), потом шла относительно стабильно до конца месяца."
   ]
  },
  {
   "cell_type": "markdown",
   "metadata": {},
   "source": [
    "### Постройте график относительного изменения кумулятивного среднего количества заказов на посетителя группы B к группе A. Сделайте выводы и предположения"
   ]
  },
  {
   "cell_type": "code",
   "execution_count": 43,
   "metadata": {},
   "outputs": [
    {
     "data": {
      "image/png": "[encoded data removed]",
      "text/plain": [
       "<Figure size 1080x360 with 1 Axes>"
      ]
     },
     "metadata": {
      "needs_background": "light"
     },
     "output_type": "display_data"
    }
   ],
   "source": [
    "merged_cumulative_conversions = cumulative_data_a[['date', 'conversion']].merge(cumulative_data_b[['date', 'conversion']],\n",
    "                                                                                left_on='date', right_on='date', how='left', suffixes=['A', 'B'])\n",
    "\n",
    "plt.figure(figsize=(15, 5))\n",
    "plt.grid()\n",
    "plt.plot(merged_cumulative_conversions['date'], merged_cumulative_conversions['conversionB'] / merged_cumulative_conversions['conversionA'] - 1, label=\"Относительное изменение кумулятивного среднего количества заказов на посетителя\")\n",
    "\n",
    "plt.xlabel('Дата')\n",
    "plt.ylabel('Конверсия')\n",
    "\n",
    "plt.title('Относительное изменение кумулятивного среднего количества заказов на посетителя')\n",
    "plt.axhline(y=0, color='black', linestyle='--')\n",
    "plt.legend()\n",
    "plt.show()\n"
   ]
  },
  {
   "cell_type": "markdown",
   "metadata": {},
   "source": [
    "Как мы уже говорили в пункте 4.5, до 10-го числа графики вели себя нестабильно, 6-го числа группы сравнялись по конверсии, но потом группа B уверенно вышла вперед. Во второй половине месяца графики идут стабильно."
   ]
  },
  {
   "cell_type": "markdown",
   "metadata": {},
   "source": [
    "### Постройте точечный график количества заказов по пользователям. Сделайте выводы и предположения."
   ]
  },
  {
   "cell_type": "code",
   "execution_count": 27,
   "metadata": {},
   "outputs": [
    {
     "data": {
      "image/png": "[encoded data removed]",
      "text/plain": [
       "<Figure size 864x432 with 1 Axes>"
      ]
     },
     "metadata": {
      "needs_background": "light"
     },
     "output_type": "display_data"
    }
   ],
   "source": [
    "# Рассчет количества заказов для каждого пользователя\n",
    "orders_per_user = orders.groupby('visitor_id')['transaction_id'].nunique().reset_index()\n",
    "orders_per_user.columns = ['visitor_id', 'orders_count']\n",
    "\n",
    "plt.figure(figsize=(12, 6))\n",
    "plt.scatter(orders_per_user['visitor_id'], orders_per_user['orders_count'], alpha=0.5)\n",
    "plt.title('Точечный график количества заказов по пользователям')\n",
    "plt.xlabel('Пользователь')\n",
    "plt.ylabel('Количество заказов')\n",
    "plt.grid(True)\n",
    "plt.show()\n"
   ]
  },
  {
   "cell_type": "markdown",
   "metadata": {},
   "source": [
    "Больше всего пользователей, которые совершили 1-2 заказов, количество заказов больше двух - редкость, хоть они и являются прибыльными для интернет-магазина. "
   ]
  },
  {
   "cell_type": "markdown",
   "metadata": {},
   "source": [
    "### Посчитайте 95-й и 99-й перцентили количества заказов на пользователя. Выберите границу для определения аномальных пользователей."
   ]
  },
  {
   "cell_type": "code",
   "execution_count": 28,
   "metadata": {},
   "outputs": [
    {
     "name": "stdout",
     "output_type": "stream",
     "text": [
      "95-й перцентиль: 2.0 заказа\n",
      "99-й перцентиль: 4.0 заказа\n"
     ]
    }
   ],
   "source": [
    "# Рассчет перцентилей\n",
    "percentiles = np.percentile(orders_per_user['orders_count'], [95, 99])\n",
    "\n",
    "print(f'95-й перцентиль: {percentiles[0]} заказа')\n",
    "print(f'99-й перцентиль: {percentiles[1]} заказа')"
   ]
  },
  {
   "cell_type": "markdown",
   "metadata": {},
   "source": [
    "95% всех пользователей находятся в пределах двух заказов или менее, а 99% пользователей находятся в пределах четырех заказов, то есть 5 и более заказов уже редкость. "
   ]
  },
  {
   "cell_type": "markdown",
   "metadata": {},
   "source": [
    "### Постройте точечный график стоимостей заказов. Сделайте выводы и предположения."
   ]
  },
  {
   "cell_type": "code",
   "execution_count": 29,
   "metadata": {},
   "outputs": [
    {
     "data": {
      "image/png": "[encoded data removed]",
      "text/plain": [
       "<Figure size 864x432 with 1 Axes>"
      ]
     },
     "metadata": {
      "needs_background": "light"
     },
     "output_type": "display_data"
    }
   ],
   "source": [
    "# Построение точечного графика\n",
    "plt.figure(figsize=(12, 6))\n",
    "plt.scatter(range(len(orders['revenue'])), orders['revenue'], alpha=0.5)\n",
    "plt.title('Точечный график стоимостей заказов')\n",
    "plt.xlabel('Заказ')\n",
    "plt.ylabel('Стоимость заказа')\n",
    "plt.grid(True)\n",
    "plt.show()"
   ]
  },
  {
   "cell_type": "markdown",
   "metadata": {},
   "source": [
    "По точечному графику видно, что заказы были сделаны в основном до 150000, есть выброс на 1.2 млн, но это опять же мы считаем аномальным значением. Можно построить такой же график, но поставить ограничение до 100000, чтобы нагляднее увидеть стоимость заказов"
   ]
  },
  {
   "cell_type": "code",
   "execution_count": 30,
   "metadata": {},
   "outputs": [
    {
     "data": {
      "image/png": "[encoded data removed]",
      "text/plain": [
       "<Figure size 864x432 with 1 Axes>"
      ]
     },
     "metadata": {
      "needs_background": "light"
     },
     "output_type": "display_data"
    }
   ],
   "source": [
    "\n",
    "plt.figure(figsize=(12, 6))\n",
    "plt.scatter(range(len(orders['revenue'])), orders['revenue'], alpha=0.5)\n",
    "plt.title('Точечный график стоимостей заказов')\n",
    "plt.xlabel('Заказ')\n",
    "plt.ylabel('Стоимость заказа')\n",
    "plt.ylim(0, 100000)  \n",
    "plt.grid(True)\n",
    "plt.show()\n"
   ]
  },
  {
   "cell_type": "markdown",
   "metadata": {},
   "source": [
    "С ограничением в 100000 уже можно сделать вывод, что заказы дороже 20 т.р. можно считать редкими, а заказы дешевле 10000 - самые распространенные у интернет-магазина."
   ]
  },
  {
   "cell_type": "markdown",
   "metadata": {},
   "source": [
    "### Посчитайте 95-й и 99-й перцентили стоимости заказов. Выберите границу для определения аномальных заказов"
   ]
  },
  {
   "cell_type": "code",
   "execution_count": 31,
   "metadata": {},
   "outputs": [
    {
     "name": "stdout",
     "output_type": "stream",
     "text": [
      "95-й перцентиль: 28000.0\n",
      "99-й перцентиль: 58233.2\n"
     ]
    }
   ],
   "source": [
    "\n",
    "percentiles = np.round(np.percentile(orders['revenue'], [95, 99]), 1)\n",
    "\n",
    "print(f'95-й перцентиль: {percentiles[0]}')\n",
    "print(f'99-й перцентиль: {percentiles[1]}')\n"
   ]
  },
  {
   "cell_type": "markdown",
   "metadata": {},
   "source": [
    "Для определения аномальных заказов можно использовать 99-й перцентиль в качестве границы. Это означает, что все заказы с суммой стоимости выше 58233.2 могут считаться аномальными."
   ]
  },
  {
   "cell_type": "markdown",
   "metadata": {},
   "source": [
    "### Посчитайте статистическую значимость различий в среднем количестве заказов на посетителя между группами по «сырым» данным. Сделайте выводы и предположения."
   ]
  },
  {
   "cell_type": "markdown",
   "metadata": {},
   "source": [
    "Нулевая гипотеза: статистически значимых различий в среднем количестве заказов на посетителя между группами нет\n",
    "\n",
    "Альтернативная гипотеза: статистически значимые различия в среднем количестве заказов на посетителя между группами есть"
   ]
  },
  {
   "cell_type": "code",
   "execution_count": 32,
   "metadata": {},
   "outputs": [
    {
     "name": "stdout",
     "output_type": "stream",
     "text": [
      "Группа A:\n",
      "  Количество покупателей: 503\n",
      "  Общее количество покупок: 557\n",
      "  Количество посетителей: 18736\n",
      "\n",
      "Группа B:\n",
      "  Количество покупателей: 586\n",
      "  Общее количество покупок: 640\n",
      "  Количество посетителей: 18916\n",
      "\n"
     ]
    }
   ],
   "source": [
    "# Группировка данных по группе A\n",
    "orders_group_A = (\n",
    "    orders[orders['group'] == 'A']\n",
    "    .groupby('visitor_id', as_index=False)\n",
    "    .agg({'transaction_id': 'nunique'})\n",
    "    .rename(columns={'transaction_id': 'orders'})\n",
    ")\n",
    "\n",
    "# Группировка данных по группе B\n",
    "orders_group_B = (\n",
    "    orders[orders['group'] == 'B']\n",
    "    .groupby('visitor_id', as_index=False)\n",
    "    .agg({'transaction_id': 'nunique'})\n",
    "    .rename(columns={'transaction_id': 'orders'})\n",
    ")\n",
    "\n",
    "for group, orders_data in zip(['A', 'B'], [orders_group_A, orders_group_B]):\n",
    "    num_customers = len(orders_data)\n",
    "    total_orders = orders_data[\"orders\"].sum()\n",
    "    visitors_count = visitors[visitors['group'] == group]['visitors'].sum()\n",
    "\n",
    "    print(f'Группа {group}:')\n",
    "    print(f'  Количество покупателей: {num_customers}')\n",
    "    print(f'  Общее количество покупок: {total_orders}')\n",
    "    print(f'  Количество посетителей: {visitors_count}\\n')"
   ]
  },
  {
   "cell_type": "code",
   "execution_count": 33,
   "metadata": {},
   "outputs": [
    {
     "name": "stdout",
     "output_type": "stream",
     "text": [
      "\n",
      "Относительный прирост конверсии группы B по отношению к группе A: 0.138\n",
      "P-value: 0.016792355056752608\n",
      "Нулевая гипотеза не опровергнута\n"
     ]
    }
   ],
   "source": [
    "# Создание серии заказов для пользователей, не совершивших покупки в группе A\n",
    "orders_by_non_purchased_users_A = pd.Series([0] * (visitors[visitors['group'] == 'A']['visitors'].sum() - len(orders_group_A)), name='orders')\n",
    "\n",
    "# Создание серии заказов для пользователей, не совершивших покупки в группе B\n",
    "orders_by_non_purchased_users_B = pd.Series([0] * (visitors[visitors['group'] == 'B']['visitors'].sum() - len(orders_group_B)), name='orders')\n",
    "\n",
    "# Объединение данных по заказам с данными по пользователям, не совершившим покупки\n",
    "sampleA = pd.concat([orders_group_A['orders'], orders_by_non_purchased_users_A], axis=0)\n",
    "sampleB = pd.concat([orders_group_B['orders'], orders_by_non_purchased_users_B], axis=0)\n",
    "\n",
    "# Рассчет относительного прироста конверсии\n",
    "relative_conversion_growth = sampleB.mean() / sampleA.mean() - 1\n",
    "\n",
    "print(f'\\nОтносительный прирост конверсии группы B по отношению к группе A: {relative_conversion_growth:.3f}')\n",
    "\n",
    "# Проверка статистической значимости различий\n",
    "alpha = 0.05\n",
    "results = stats.mannwhitneyu(sampleA, sampleB)\n",
    "print(f'P-value: {results.pvalue}')\n",
    "\n",
    "if results.pvalue < alpha:\n",
    "    print('Нулевая гипотеза не опровергнута')\n",
    "else:\n",
    "    print('Нулевая гипотеза опровергнута')\n"
   ]
  },
  {
   "cell_type": "markdown",
   "metadata": {},
   "source": [
    "Полученное p-value равно 0.017, что меньше уровня значимости 0.05. Это означает, что у нас есть статистически значимые различия в конверсии между группами A и B на \"сырых\" данных. Следовательно, мы отвергаем нулевую гипотезу о том, что различий нет.\n",
    "\n",
    "Относительный выигрыш группы B над группой A составляет 13.8%. Это говорит о том, что конверсия в группе B выше на 13.8% по сравнению с группой A на \"сырых\" данных."
   ]
  },
  {
   "cell_type": "markdown",
   "metadata": {},
   "source": [
    "### Посчитайте статистическую значимость различий в среднем чеке заказа между группами по «сырым» данным. Сделайте выводы и предположения."
   ]
  },
  {
   "cell_type": "markdown",
   "metadata": {},
   "source": [
    "Нулевая гипотеза: различий в среднем чеке заказа между группами по «сырым» данным нет\n",
    "\n",
    "Альтернативная гипотеза: различия в среднем чеке заказа между группами по «сырым» данным есть"
   ]
  },
  {
   "cell_type": "code",
   "execution_count": 34,
   "metadata": {},
   "outputs": [
    {
     "name": "stdout",
     "output_type": "stream",
     "text": [
      "P-value для сравнения средних чеков: 0.72929\n",
      "Нулевая гипотеза о том, что различий в среднем чеке нет, не опровергнута\n"
     ]
    }
   ],
   "source": [
    "# Рассчет статистической значимости различий в среднем чеке между группами\n",
    "results_revenue = stats.mannwhitneyu(orders[orders['group']=='A']['revenue'], orders[orders['group']=='B']['revenue'])\n",
    "\n",
    "print(f'P-value для сравнения средних чеков: {results_revenue.pvalue:.5f}')\n",
    "\n",
    "alpha_revenue = 0.05\n",
    "\n",
    "if results_revenue.pvalue < alpha_revenue:\n",
    "    print('Нулевая гипотеза о том, что различий в среднем чеке нет, отвергнута')\n",
    "else:\n",
    "    print('Нулевая гипотеза о том, что различий в среднем чеке нет, не опровергнута')"
   ]
  },
  {
   "cell_type": "code",
   "execution_count": 35,
   "metadata": {},
   "outputs": [
    {
     "name": "stdout",
     "output_type": "stream",
     "text": [
      "Относительный показатель различия среднего чека между группами B и A: 0.259\n"
     ]
    }
   ],
   "source": [
    "# Рассчет относительного показателя среднего чека\n",
    "relative_revenue_difference = orders[orders['group']=='B']['revenue'].mean() / orders[orders['group']=='A']['revenue'].mean() - 1\n",
    "\n",
    "print(f'Относительный показатель различия среднего чека между группами B и A: {relative_revenue_difference:.3f}')"
   ]
  },
  {
   "cell_type": "markdown",
   "metadata": {},
   "source": [
    "Полученное p-value при сравнении средних чеков между группами A и B составляет значительно больше 0.05, что говорит о том, что нет статистически значимых различий в средних чеках по \"сырым\" данным. Следовательно, нулевая гипотеза о том, что средние чеки схожи, не может быть отвергнута.\n",
    "\n",
    "Однако, несмотря на отсутствие статистической значимости, стоит обратить внимание на относительный показатель различия средних чеков. Средний чек группы B оказался значительно выше среднего чека группы A на 26%."
   ]
  },
  {
   "cell_type": "markdown",
   "metadata": {},
   "source": [
    "### Посчитайте статистическую значимость различий в среднем количестве заказов на посетителя между группами по «очищенным» данным. Сделайте выводы и предположения."
   ]
  },
  {
   "cell_type": "markdown",
   "metadata": {},
   "source": [
    "Нулевая гипотеза:  различий в среднем количестве заказов на посетителя между группами по «очищенным» данным нет\n",
    "\n",
    "Альтернативная гипотеза:  различия в среднем количестве заказов на посетителя между группами по «очищенным» данным есть"
   ]
  },
  {
   "cell_type": "code",
   "execution_count": 36,
   "metadata": {},
   "outputs": [
    {
     "name": "stdout",
     "output_type": "stream",
     "text": [
      "Кол-во аномальных пользователей: 31\n"
     ]
    }
   ],
   "source": [
    "limit_orders = 2\n",
    "limit_revenue = 58000\n",
    "usersWithManyOrders = pd.concat([orders_group_A[orders_group_A['orders']>limit_orders]['visitor_id'], \n",
    "                                orders_group_B[orders_group_B['orders']>limit_orders]['visitor_id']], axis = 0)\n",
    "usersWithExpensiveOrders = orders[orders['revenue']>limit_revenue]['visitor_id']\n",
    "abnormal_users = pd.concat([usersWithManyOrders, usersWithExpensiveOrders], axis = 0).drop_duplicates().sort_values()\n",
    "print('Кол-во аномальных пользователей: {}'.format(len(abnormal_users)))"
   ]
  },
  {
   "cell_type": "code",
   "execution_count": 37,
   "metadata": {},
   "outputs": [
    {
     "name": "stdout",
     "output_type": "stream",
     "text": [
      "\n",
      "Относительный прирост конверсии группы B по отношению к группе A после очистки данных: 0.174\n",
      "P-value (очищенные данные): 0.010074820358290555\n",
      "Различия в среднем количестве заказов на посетителя между группами по «очищенным» данным есть\n"
     ]
    }
   ],
   "source": [
    "# Создание \"очищенных\" выборок для каждой группы\n",
    "sampleA_filtered = pd.concat([\n",
    "    orders_group_A[~orders_group_A['visitor_id'].isin(abnormal_users)]['orders'],\n",
    "    pd.Series(0, index=np.arange(visitors[visitors['group']=='A']['visitors'].sum() - len(orders_group_A)), name='orders')\n",
    "], axis=0)\n",
    "\n",
    "sampleB_filtered = pd.concat([\n",
    "    orders_group_B[~orders_group_B['visitor_id'].isin(abnormal_users)]['orders'],\n",
    "    pd.Series(0, index=np.arange(visitors[visitors['group']=='B']['visitors'].sum() - len(orders_group_B)), name='orders')\n",
    "], axis=0)\n",
    "\n",
    "# Рассчет относительного показателя и статистической значимости\n",
    "relative_conversion_increase = sampleB_filtered.mean() / sampleA_filtered.mean() - 1\n",
    "p_value_filtered = stats.mannwhitneyu(sampleA_filtered, sampleB_filtered).pvalue\n",
    "\n",
    "print(f'\\nОтносительный прирост конверсии группы B по отношению к группе A после очистки данных: {relative_conversion_increase:.3f}')\n",
    "print(f'P-value (очищенные данные): {p_value_filtered}')\n",
    "\n",
    "# Проверка статистической значимости\n",
    "if p_value_filtered < alpha:\n",
    "    print('Различия в среднем количестве заказов на посетителя между группами по «очищенным» данным есть')\n",
    "else:\n",
    "    print('Различий в среднем количестве заказов на посетителя между группами по «очищенным» данным нет')\n"
   ]
  },
  {
   "cell_type": "markdown",
   "metadata": {},
   "source": [
    "Нулевую гипотезу отвергаем - различия в среднем количестве заказов на посетителя между группами по «очищенным» данным есть. Относительный прирост конверсии группы B по отношению к группе A после очистки данных: 0.174. Этот показатель оказался выше, чем при анализе \"сырых\" данных, где относительный выигрыш составил 0.138. Таким образом, после удаления выбросов конверсия группы B значительно превосходит конверсию группы A.\n",
    "\n",
    "\n",
    "\n",
    "\n"
   ]
  },
  {
   "cell_type": "markdown",
   "metadata": {},
   "source": [
    "### Посчитайте статистическую значимость различий в среднем чеке заказа между группами по «очищенным» данным. Сделайте выводы и предположения."
   ]
  },
  {
   "cell_type": "markdown",
   "metadata": {},
   "source": [
    "Нулевая гипотеза: различий в среднем чеке заказа между группами по «очищенным» данным нет\n",
    "\n",
    "Альтернативная гипотеза: различия в среднем чеке заказа между группами по «очищенным» данным есть"
   ]
  },
  {
   "cell_type": "code",
   "execution_count": 38,
   "metadata": {},
   "outputs": [
    {
     "name": "stdout",
     "output_type": "stream",
     "text": [
      "P-value: 0.798\n",
      "Относительный показатель 'B' и 'A' по среднему чеку: -0.020\n",
      "Различий в среднем чеке между группами по 'очищенным' данным нет\n"
     ]
    }
   ],
   "source": [
    "# Рассчет статистической значимости различий в среднем чеке между группами по \"очищенным\" данным\n",
    "p_value_revenue = stats.mannwhitneyu(\n",
    "    orders[np.logical_and(orders['group'] == 'A', ~orders['visitor_id'].isin(abnormal_users))]['revenue'],\n",
    "    orders[np.logical_and(orders['group'] == 'B', ~orders['visitor_id'].isin(abnormal_users))]['revenue'],\n",
    "    alternative='two-sided'\n",
    ")[1]\n",
    "\n",
    "# Рассчет относительного показателя \"B\" и \"A\" по среднему чеку\n",
    "relative_revenue_B_A = (\n",
    "    orders[np.logical_and(orders['group'] == 'B', ~orders['visitor_id'].isin(abnormal_users))]['revenue'].mean() /\n",
    "    orders[np.logical_and(orders['group'] == 'A', ~orders['visitor_id'].isin(abnormal_users))]['revenue'].mean() - 1\n",
    ")\n",
    "\n",
    "print(f\"P-value: {p_value_revenue:.3f}\")\n",
    "print(f\"Относительный показатель 'B' и 'A' по среднему чеку: {relative_revenue_B_A:.3f}\")\n",
    "\n",
    "# Проверка статистической значимости\n",
    "alpha_revenue = 0.05\n",
    "if p_value_revenue < alpha_revenue:\n",
    "    print(\"Различия в среднем чеке между группами по 'очищенным' данным есть\")\n",
    "else:\n",
    "    print(\"Различий в среднем чеке между группами по 'очищенным' данным нет\")\n",
    "\n"
   ]
  },
  {
   "cell_type": "markdown",
   "metadata": {},
   "source": [
    "Гипотезы не были опровергнуты что в сырых, что в очищенных данных. Таким образом, можно сделать вывод, что на основе имеющихся данных различий в среднем чеке между группами A и B нет, как по \"сырым\", так и по \"очищенным\" данным. Из-за аномалии в сырых данных выше относительный показатель В и А, но это не имеет значения."
   ]
  },
  {
   "cell_type": "markdown",
   "metadata": {},
   "source": [
    "### Примите решение по результатам теста и объясните его.\n",
    "Варианты решений:\n",
    "\n",
    "1. Остановить тест, зафиксировать победу одной из групп.\n",
    "\n",
    "2. Остановить тест, зафиксировать отсутствие различий между группами.\n",
    "\n",
    "3. Продолжить тест."
   ]
  },
  {
   "cell_type": "markdown",
   "metadata": {},
   "source": [
    "Проанализировав данные, можно сделать вывод, что нужно остановить тест и зафиксировать победу группы B. Мы построили графики многих метрик, где зафиксировали, что группа B идёт везде выше, а именно кумулятивная выручка, кумулятивный средний чек, кумулятивное среднее количество заказов на посетителя (конверсия), количество заказов по пользователям и т.д. \n",
    "\n",
    "Разница между сырыми и очищенными данными: \n",
    "По сырым и по очищенным данным различия в конверсии групп A и B есть. Выигрыш группы \"B\" над \"A\" равен 17,4% по \"очищенным\" и 13.8% по \"сырым\" данным. \n",
    "\n",
    "После очистки разница между средними чеками стала минимальна, так как в сырых данных был сделан большой заказ (в 18х - 19х числах месяца было выявлено аномальное значение). \n",
    "\n"
   ]
  },
  {
   "cell_type": "markdown",
   "metadata": {},
   "source": [
    "# Итоговый вывод"
   ]
  },
  {
   "cell_type": "markdown",
   "metadata": {},
   "source": [
    "В ходе анализа, был проанализирован крупный интернет-магазин, а точнее мы провели А/В тест, где выявили победу одной из групп. Перед этим была проведена предобработка данных, где мы поменяли типы данных, где это нужно, проверили датафреймы на пропуски и дубликаты, а также посчитали метрики ICE и RICE. К ходе анализа А/В теста были построены графики, где мы смогли посмотреть на то, как меняются метрики по датам и смогли найти аномальные значения, которые вскоре удалили для дальнейшего анализа по очищенным данным."
   ]
  }
 ],
 "metadata": {
  "ExecuteTimeLog": [
   {
    "duration": 835,
    "start_time": "2024-02-27T19:38:55.838Z"
   },
   {
    "duration": 183,
    "start_time": "2024-02-27T19:38:57.394Z"
   },
   {
    "duration": 18,
    "start_time": "2024-02-27T19:40:13.315Z"
   },
   {
    "duration": 11,
    "start_time": "2024-02-27T19:40:52.251Z"
   },
   {
    "duration": 9,
    "start_time": "2024-02-27T19:45:45.339Z"
   },
   {
    "duration": 10,
    "start_time": "2024-02-27T19:45:57.321Z"
   },
   {
    "duration": 11,
    "start_time": "2024-02-27T19:46:14.879Z"
   },
   {
    "duration": 8,
    "start_time": "2024-02-27T19:50:49.239Z"
   },
   {
    "duration": 10,
    "start_time": "2024-02-27T19:51:04.761Z"
   },
   {
    "duration": 3,
    "start_time": "2024-02-27T19:56:53.520Z"
   },
   {
    "duration": 4,
    "start_time": "2024-02-27T19:58:01.249Z"
   },
   {
    "duration": 4,
    "start_time": "2024-02-27T20:07:10.154Z"
   },
   {
    "duration": 3,
    "start_time": "2024-02-27T20:07:24.738Z"
   },
   {
    "duration": 7,
    "start_time": "2024-02-27T20:15:19.715Z"
   },
   {
    "duration": 12,
    "start_time": "2024-02-27T20:19:21.057Z"
   },
   {
    "duration": 10,
    "start_time": "2024-02-27T20:20:12.191Z"
   },
   {
    "duration": 8,
    "start_time": "2024-02-27T20:31:39.545Z"
   },
   {
    "duration": 7,
    "start_time": "2024-02-27T20:32:16.247Z"
   },
   {
    "duration": 8,
    "start_time": "2024-02-27T20:35:21.247Z"
   },
   {
    "duration": 7,
    "start_time": "2024-02-27T20:37:35.060Z"
   },
   {
    "duration": 10,
    "start_time": "2024-02-27T20:39:18.652Z"
   },
   {
    "duration": 19,
    "start_time": "2024-02-27T20:39:35.060Z"
   },
   {
    "duration": 8,
    "start_time": "2024-02-27T20:39:41.910Z"
   },
   {
    "duration": 9,
    "start_time": "2024-02-27T20:40:17.574Z"
   },
   {
    "duration": 8,
    "start_time": "2024-02-27T20:40:19.812Z"
   },
   {
    "duration": 3,
    "start_time": "2024-02-27T20:45:22.138Z"
   },
   {
    "duration": 4,
    "start_time": "2024-02-27T20:45:24.255Z"
   },
   {
    "duration": 72,
    "start_time": "2024-02-27T20:46:36.436Z"
   },
   {
    "duration": 1714,
    "start_time": "2024-02-27T21:06:53.450Z"
   },
   {
    "duration": 982,
    "start_time": "2024-02-27T21:07:32.571Z"
   },
   {
    "duration": 74,
    "start_time": "2024-02-27T21:07:33.556Z"
   },
   {
    "duration": 18,
    "start_time": "2024-02-27T21:07:33.632Z"
   },
   {
    "duration": 52,
    "start_time": "2024-02-27T21:07:33.652Z"
   },
   {
    "duration": 455,
    "start_time": "2024-02-27T21:07:33.706Z"
   },
   {
    "duration": 127,
    "start_time": "2024-02-27T21:07:34.162Z"
   },
   {
    "duration": 13,
    "start_time": "2024-02-27T21:07:34.290Z"
   },
   {
    "duration": 20,
    "start_time": "2024-02-27T21:07:34.304Z"
   },
   {
    "duration": 4,
    "start_time": "2024-02-27T21:07:34.326Z"
   },
   {
    "duration": 4,
    "start_time": "2024-02-27T21:07:34.332Z"
   },
   {
    "duration": 14,
    "start_time": "2024-02-27T21:07:34.338Z"
   },
   {
    "duration": 18,
    "start_time": "2024-02-27T21:07:34.354Z"
   },
   {
    "duration": 25,
    "start_time": "2024-02-27T21:07:34.374Z"
   },
   {
    "duration": 14,
    "start_time": "2024-02-27T21:07:34.403Z"
   },
   {
    "duration": 15,
    "start_time": "2024-02-27T21:07:34.420Z"
   },
   {
    "duration": 12,
    "start_time": "2024-02-27T21:07:34.437Z"
   },
   {
    "duration": 14,
    "start_time": "2024-02-27T21:07:34.451Z"
   },
   {
    "duration": 29,
    "start_time": "2024-02-27T21:07:34.467Z"
   },
   {
    "duration": 18,
    "start_time": "2024-02-27T21:07:34.498Z"
   },
   {
    "duration": 12,
    "start_time": "2024-02-27T21:08:34.032Z"
   },
   {
    "duration": 12,
    "start_time": "2024-02-27T21:08:39.393Z"
   },
   {
    "duration": 1732,
    "start_time": "2024-02-27T21:09:07.465Z"
   },
   {
    "duration": 12,
    "start_time": "2024-02-27T21:09:21.857Z"
   },
   {
    "duration": 13,
    "start_time": "2024-02-27T21:23:51.024Z"
   },
   {
    "duration": 321,
    "start_time": "2024-02-27T22:15:42.505Z"
   },
   {
    "duration": 340,
    "start_time": "2024-02-27T22:16:30.282Z"
   },
   {
    "duration": 11,
    "start_time": "2024-02-27T22:18:27.592Z"
   },
   {
    "duration": 516,
    "start_time": "2024-02-27T22:18:45.401Z"
   },
   {
    "duration": 345,
    "start_time": "2024-02-27T22:18:49.596Z"
   },
   {
    "duration": 237,
    "start_time": "2024-02-27T22:57:43.456Z"
   },
   {
    "duration": 235,
    "start_time": "2024-02-27T23:06:54.151Z"
   },
   {
    "duration": 374,
    "start_time": "2024-02-27T23:16:06.424Z"
   },
   {
    "duration": 255,
    "start_time": "2024-02-27T23:33:27.714Z"
   },
   {
    "duration": 285,
    "start_time": "2024-02-27T23:44:25.626Z"
   },
   {
    "duration": 338,
    "start_time": "2024-02-27T23:44:36.085Z"
   },
   {
    "duration": 330,
    "start_time": "2024-02-27T23:46:55.710Z"
   },
   {
    "duration": 396,
    "start_time": "2024-02-27T23:47:57.919Z"
   },
   {
    "duration": 244,
    "start_time": "2024-02-27T23:49:03.815Z"
   },
   {
    "duration": 322,
    "start_time": "2024-02-27T23:49:54.819Z"
   },
   {
    "duration": 246,
    "start_time": "2024-02-27T23:50:17.640Z"
   },
   {
    "duration": 286,
    "start_time": "2024-02-27T23:53:45.420Z"
   },
   {
    "duration": 276,
    "start_time": "2024-02-27T23:56:24.448Z"
   },
   {
    "duration": 1258,
    "start_time": "2024-02-27T23:56:35.381Z"
   },
   {
    "duration": 103,
    "start_time": "2024-02-27T23:56:36.641Z"
   },
   {
    "duration": 11,
    "start_time": "2024-02-27T23:56:36.746Z"
   },
   {
    "duration": 11,
    "start_time": "2024-02-27T23:56:36.759Z"
   },
   {
    "duration": 10,
    "start_time": "2024-02-27T23:56:36.772Z"
   },
   {
    "duration": 23,
    "start_time": "2024-02-27T23:56:36.783Z"
   },
   {
    "duration": 10,
    "start_time": "2024-02-27T23:56:36.807Z"
   },
   {
    "duration": 16,
    "start_time": "2024-02-27T23:56:36.819Z"
   },
   {
    "duration": 13,
    "start_time": "2024-02-27T23:56:36.837Z"
   },
   {
    "duration": 6,
    "start_time": "2024-02-27T23:56:36.852Z"
   },
   {
    "duration": 7,
    "start_time": "2024-02-27T23:56:36.859Z"
   },
   {
    "duration": 14,
    "start_time": "2024-02-27T23:56:36.867Z"
   },
   {
    "duration": 9,
    "start_time": "2024-02-27T23:56:36.883Z"
   },
   {
    "duration": 24,
    "start_time": "2024-02-27T23:56:36.895Z"
   },
   {
    "duration": 12,
    "start_time": "2024-02-27T23:56:36.920Z"
   },
   {
    "duration": 9,
    "start_time": "2024-02-27T23:56:36.934Z"
   },
   {
    "duration": 14,
    "start_time": "2024-02-27T23:56:36.945Z"
   },
   {
    "duration": 32,
    "start_time": "2024-02-27T23:56:36.960Z"
   },
   {
    "duration": 22,
    "start_time": "2024-02-27T23:56:36.993Z"
   },
   {
    "duration": 14,
    "start_time": "2024-02-27T23:56:37.016Z"
   },
   {
    "duration": 308,
    "start_time": "2024-02-27T23:56:37.032Z"
   },
   {
    "duration": 315,
    "start_time": "2024-02-27T23:56:37.342Z"
   },
   {
    "duration": 238,
    "start_time": "2024-02-27T23:56:37.659Z"
   },
   {
    "duration": 447,
    "start_time": "2024-02-27T23:56:37.899Z"
   },
   {
    "duration": 257,
    "start_time": "2024-02-27T23:56:38.348Z"
   },
   {
    "duration": 307,
    "start_time": "2024-02-27T23:56:38.607Z"
   },
   {
    "duration": 286,
    "start_time": "2024-02-27T23:58:13.341Z"
   },
   {
    "duration": 101,
    "start_time": "2024-02-27T23:58:57.356Z"
   },
   {
    "duration": 13,
    "start_time": "2024-02-27T23:59:29.004Z"
   },
   {
    "duration": 1815,
    "start_time": "2024-02-28T00:01:09.880Z"
   },
   {
    "duration": 299,
    "start_time": "2024-02-28T00:01:59.546Z"
   },
   {
    "duration": 370,
    "start_time": "2024-02-28T00:02:37.941Z"
   },
   {
    "duration": 330,
    "start_time": "2024-02-28T00:03:58.172Z"
   },
   {
    "duration": 233,
    "start_time": "2024-02-28T00:05:42.817Z"
   },
   {
    "duration": 322,
    "start_time": "2024-02-28T00:15:51.272Z"
   },
   {
    "duration": 239,
    "start_time": "2024-02-28T00:16:38.036Z"
   },
   {
    "duration": 245,
    "start_time": "2024-02-28T00:16:48.991Z"
   },
   {
    "duration": 1088,
    "start_time": "2024-02-28T00:17:14.842Z"
   },
   {
    "duration": 128,
    "start_time": "2024-02-28T00:17:15.932Z"
   },
   {
    "duration": 12,
    "start_time": "2024-02-28T00:17:16.062Z"
   },
   {
    "duration": 40,
    "start_time": "2024-02-28T00:17:16.076Z"
   },
   {
    "duration": 22,
    "start_time": "2024-02-28T00:17:16.117Z"
   },
   {
    "duration": 33,
    "start_time": "2024-02-28T00:17:16.141Z"
   },
   {
    "duration": 36,
    "start_time": "2024-02-28T00:17:16.176Z"
   },
   {
    "duration": 31,
    "start_time": "2024-02-28T00:17:16.214Z"
   },
   {
    "duration": 18,
    "start_time": "2024-02-28T00:17:16.247Z"
   },
   {
    "duration": 6,
    "start_time": "2024-02-28T00:17:16.268Z"
   },
   {
    "duration": 5,
    "start_time": "2024-02-28T00:17:16.276Z"
   },
   {
    "duration": 8,
    "start_time": "2024-02-28T00:17:16.283Z"
   },
   {
    "duration": 26,
    "start_time": "2024-02-28T00:17:16.292Z"
   },
   {
    "duration": 20,
    "start_time": "2024-02-28T00:17:16.320Z"
   },
   {
    "duration": 23,
    "start_time": "2024-02-28T00:17:16.341Z"
   },
   {
    "duration": 14,
    "start_time": "2024-02-28T00:17:16.365Z"
   },
   {
    "duration": 41,
    "start_time": "2024-02-28T00:17:16.380Z"
   },
   {
    "duration": 40,
    "start_time": "2024-02-28T00:17:16.423Z"
   },
   {
    "duration": 27,
    "start_time": "2024-02-28T00:17:16.465Z"
   },
   {
    "duration": 70,
    "start_time": "2024-02-28T00:17:16.494Z"
   },
   {
    "duration": 364,
    "start_time": "2024-02-28T00:17:16.565Z"
   },
   {
    "duration": 315,
    "start_time": "2024-02-28T00:17:16.930Z"
   },
   {
    "duration": 236,
    "start_time": "2024-02-28T00:17:17.247Z"
   },
   {
    "duration": 378,
    "start_time": "2024-02-28T00:17:17.485Z"
   },
   {
    "duration": 272,
    "start_time": "2024-02-28T00:17:17.864Z"
   },
   {
    "duration": 1844,
    "start_time": "2024-02-28T00:22:42.074Z"
   },
   {
    "duration": 306,
    "start_time": "2024-02-28T00:24:10.547Z"
   },
   {
    "duration": 1723,
    "start_time": "2024-02-28T00:25:54.385Z"
   },
   {
    "duration": 339,
    "start_time": "2024-02-28T00:26:34.073Z"
   },
   {
    "duration": 27,
    "start_time": "2024-02-28T00:31:26.786Z"
   },
   {
    "duration": 248,
    "start_time": "2024-02-28T00:35:13.743Z"
   },
   {
    "duration": 54,
    "start_time": "2024-02-28T10:03:28.328Z"
   },
   {
    "duration": 1298,
    "start_time": "2024-02-28T10:03:39.440Z"
   },
   {
    "duration": 1088,
    "start_time": "2024-02-28T10:03:44.306Z"
   },
   {
    "duration": 247,
    "start_time": "2024-02-28T10:03:45.397Z"
   },
   {
    "duration": 13,
    "start_time": "2024-02-28T10:03:45.646Z"
   },
   {
    "duration": 25,
    "start_time": "2024-02-28T10:03:45.661Z"
   },
   {
    "duration": 27,
    "start_time": "2024-02-28T10:03:45.688Z"
   },
   {
    "duration": 40,
    "start_time": "2024-02-28T10:03:45.717Z"
   },
   {
    "duration": 19,
    "start_time": "2024-02-28T10:03:45.759Z"
   },
   {
    "duration": 30,
    "start_time": "2024-02-28T10:03:45.780Z"
   },
   {
    "duration": 4,
    "start_time": "2024-02-28T10:03:45.813Z"
   },
   {
    "duration": 15,
    "start_time": "2024-02-28T10:03:45.818Z"
   },
   {
    "duration": 5,
    "start_time": "2024-02-28T10:03:45.835Z"
   },
   {
    "duration": 5,
    "start_time": "2024-02-28T10:03:45.842Z"
   },
   {
    "duration": 8,
    "start_time": "2024-02-28T10:03:45.849Z"
   },
   {
    "duration": 27,
    "start_time": "2024-02-28T10:03:45.860Z"
   },
   {
    "duration": 17,
    "start_time": "2024-02-28T10:03:45.889Z"
   },
   {
    "duration": 9,
    "start_time": "2024-02-28T10:03:45.908Z"
   },
   {
    "duration": 10,
    "start_time": "2024-02-28T10:03:45.918Z"
   },
   {
    "duration": 15,
    "start_time": "2024-02-28T10:03:45.930Z"
   },
   {
    "duration": 44,
    "start_time": "2024-02-28T10:03:45.947Z"
   },
   {
    "duration": 16,
    "start_time": "2024-02-28T10:03:45.993Z"
   },
   {
    "duration": 349,
    "start_time": "2024-02-28T10:03:46.011Z"
   },
   {
    "duration": 337,
    "start_time": "2024-02-28T10:03:46.361Z"
   },
   {
    "duration": 244,
    "start_time": "2024-02-28T10:03:46.699Z"
   },
   {
    "duration": 499,
    "start_time": "2024-02-28T10:03:46.945Z"
   },
   {
    "duration": 278,
    "start_time": "2024-02-28T10:03:47.446Z"
   },
   {
    "duration": 281,
    "start_time": "2024-02-28T10:03:47.726Z"
   },
   {
    "duration": 124,
    "start_time": "2024-02-28T10:07:21.980Z"
   },
   {
    "duration": 10,
    "start_time": "2024-02-28T10:08:28.597Z"
   },
   {
    "duration": 273,
    "start_time": "2024-02-28T10:09:53.732Z"
   },
   {
    "duration": 263,
    "start_time": "2024-02-28T10:10:03.632Z"
   },
   {
    "duration": 297,
    "start_time": "2024-02-28T10:13:18.404Z"
   },
   {
    "duration": 1421,
    "start_time": "2024-02-28T10:16:07.875Z"
   },
   {
    "duration": 1353,
    "start_time": "2024-02-28T10:16:37.937Z"
   },
   {
    "duration": 334,
    "start_time": "2024-02-28T10:18:27.113Z"
   },
   {
    "duration": 160,
    "start_time": "2024-02-28T10:37:09.157Z"
   },
   {
    "duration": 4,
    "start_time": "2024-02-28T10:44:50.870Z"
   },
   {
    "duration": 179,
    "start_time": "2024-02-28T10:51:59.350Z"
   },
   {
    "duration": 184,
    "start_time": "2024-02-28T10:53:23.261Z"
   },
   {
    "duration": 15,
    "start_time": "2024-02-28T10:54:26.607Z"
   },
   {
    "duration": 1291,
    "start_time": "2024-02-28T10:55:03.791Z"
   },
   {
    "duration": 98,
    "start_time": "2024-02-28T10:55:05.084Z"
   },
   {
    "duration": 21,
    "start_time": "2024-02-28T10:55:05.183Z"
   },
   {
    "duration": 19,
    "start_time": "2024-02-28T10:55:05.206Z"
   },
   {
    "duration": 30,
    "start_time": "2024-02-28T10:55:05.227Z"
   },
   {
    "duration": 24,
    "start_time": "2024-02-28T10:55:05.259Z"
   },
   {
    "duration": 24,
    "start_time": "2024-02-28T10:55:05.285Z"
   },
   {
    "duration": 33,
    "start_time": "2024-02-28T10:55:05.311Z"
   },
   {
    "duration": 4,
    "start_time": "2024-02-28T10:55:05.346Z"
   },
   {
    "duration": 13,
    "start_time": "2024-02-28T10:55:05.352Z"
   },
   {
    "duration": 5,
    "start_time": "2024-02-28T10:55:05.367Z"
   },
   {
    "duration": 13,
    "start_time": "2024-02-28T10:55:05.373Z"
   },
   {
    "duration": 11,
    "start_time": "2024-02-28T10:55:05.388Z"
   },
   {
    "duration": 16,
    "start_time": "2024-02-28T10:55:05.402Z"
   },
   {
    "duration": 14,
    "start_time": "2024-02-28T10:55:05.420Z"
   },
   {
    "duration": 13,
    "start_time": "2024-02-28T10:55:05.436Z"
   },
   {
    "duration": 12,
    "start_time": "2024-02-28T10:55:05.451Z"
   },
   {
    "duration": 10,
    "start_time": "2024-02-28T10:55:05.483Z"
   },
   {
    "duration": 24,
    "start_time": "2024-02-28T10:55:05.495Z"
   },
   {
    "duration": 18,
    "start_time": "2024-02-28T10:55:05.521Z"
   },
   {
    "duration": 361,
    "start_time": "2024-02-28T10:55:05.541Z"
   },
   {
    "duration": 370,
    "start_time": "2024-02-28T10:55:05.904Z"
   },
   {
    "duration": 246,
    "start_time": "2024-02-28T10:55:06.281Z"
   },
   {
    "duration": 361,
    "start_time": "2024-02-28T10:55:06.529Z"
   },
   {
    "duration": 251,
    "start_time": "2024-02-28T10:55:06.892Z"
   },
   {
    "duration": 398,
    "start_time": "2024-02-28T10:55:07.145Z"
   },
   {
    "duration": 172,
    "start_time": "2024-02-28T10:55:07.545Z"
   },
   {
    "duration": 5,
    "start_time": "2024-02-28T10:55:07.719Z"
   },
   {
    "duration": 126,
    "start_time": "2024-02-28T10:55:07.726Z"
   },
   {
    "duration": 16,
    "start_time": "2024-02-28T10:55:36.276Z"
   },
   {
    "duration": 297,
    "start_time": "2024-02-28T10:55:58.000Z"
   },
   {
    "duration": 200,
    "start_time": "2024-02-28T10:57:23.913Z"
   },
   {
    "duration": 241,
    "start_time": "2024-02-28T11:02:42.045Z"
   },
   {
    "duration": 295,
    "start_time": "2024-02-28T11:08:22.085Z"
   },
   {
    "duration": 5,
    "start_time": "2024-02-28T11:11:23.489Z"
   },
   {
    "duration": 6,
    "start_time": "2024-02-28T11:12:06.969Z"
   },
   {
    "duration": 12,
    "start_time": "2024-02-28T11:19:32.594Z"
   },
   {
    "duration": 9,
    "start_time": "2024-02-28T11:19:36.868Z"
   },
   {
    "duration": 3,
    "start_time": "2024-02-28T11:19:47.153Z"
   },
   {
    "duration": 1249,
    "start_time": "2024-02-28T11:19:54.998Z"
   },
   {
    "duration": 1662,
    "start_time": "2024-02-28T11:20:07.655Z"
   },
   {
    "duration": 1188,
    "start_time": "2024-02-28T11:20:15.929Z"
   },
   {
    "duration": 73,
    "start_time": "2024-02-28T11:20:17.120Z"
   },
   {
    "duration": 12,
    "start_time": "2024-02-28T11:20:17.194Z"
   },
   {
    "duration": 29,
    "start_time": "2024-02-28T11:20:17.208Z"
   },
   {
    "duration": 26,
    "start_time": "2024-02-28T11:20:17.239Z"
   },
   {
    "duration": 28,
    "start_time": "2024-02-28T11:20:17.267Z"
   },
   {
    "duration": 23,
    "start_time": "2024-02-28T11:20:17.297Z"
   },
   {
    "duration": 23,
    "start_time": "2024-02-28T11:20:17.322Z"
   },
   {
    "duration": 17,
    "start_time": "2024-02-28T11:20:17.347Z"
   },
   {
    "duration": 17,
    "start_time": "2024-02-28T11:20:17.366Z"
   },
   {
    "duration": 16,
    "start_time": "2024-02-28T11:20:17.385Z"
   },
   {
    "duration": 20,
    "start_time": "2024-02-28T11:20:17.404Z"
   },
   {
    "duration": 21,
    "start_time": "2024-02-28T11:20:17.426Z"
   },
   {
    "duration": 15,
    "start_time": "2024-02-28T11:20:17.451Z"
   },
   {
    "duration": 14,
    "start_time": "2024-02-28T11:20:17.468Z"
   },
   {
    "duration": 12,
    "start_time": "2024-02-28T11:20:17.484Z"
   },
   {
    "duration": 19,
    "start_time": "2024-02-28T11:20:17.498Z"
   },
   {
    "duration": 9,
    "start_time": "2024-02-28T11:20:17.519Z"
   },
   {
    "duration": 20,
    "start_time": "2024-02-28T11:20:17.530Z"
   },
   {
    "duration": 31,
    "start_time": "2024-02-28T11:20:17.551Z"
   },
   {
    "duration": 333,
    "start_time": "2024-02-28T11:20:17.585Z"
   },
   {
    "duration": 347,
    "start_time": "2024-02-28T11:20:17.920Z"
   },
   {
    "duration": 269,
    "start_time": "2024-02-28T11:20:18.269Z"
   },
   {
    "duration": 430,
    "start_time": "2024-02-28T11:20:18.540Z"
   },
   {
    "duration": 243,
    "start_time": "2024-02-28T11:20:18.981Z"
   },
   {
    "duration": 312,
    "start_time": "2024-02-28T11:20:19.226Z"
   },
   {
    "duration": 190,
    "start_time": "2024-02-28T11:20:19.540Z"
   },
   {
    "duration": 5,
    "start_time": "2024-02-28T11:20:19.732Z"
   },
   {
    "duration": 222,
    "start_time": "2024-02-28T11:20:19.739Z"
   },
   {
    "duration": 126,
    "start_time": "2024-02-28T11:20:19.963Z"
   },
   {
    "duration": 0,
    "start_time": "2024-02-28T11:20:20.090Z"
   },
   {
    "duration": 0,
    "start_time": "2024-02-28T11:20:20.092Z"
   },
   {
    "duration": 10,
    "start_time": "2024-02-28T11:22:21.331Z"
   },
   {
    "duration": 16,
    "start_time": "2024-02-28T11:26:05.956Z"
   },
   {
    "duration": 11,
    "start_time": "2024-02-28T11:29:51.942Z"
   },
   {
    "duration": 5,
    "start_time": "2024-02-28T11:36:04.544Z"
   },
   {
    "duration": 6,
    "start_time": "2024-02-28T11:36:08.733Z"
   },
   {
    "duration": 20,
    "start_time": "2024-02-28T11:36:17.613Z"
   },
   {
    "duration": 20,
    "start_time": "2024-02-28T11:37:02.171Z"
   },
   {
    "duration": 97,
    "start_time": "2024-02-28T11:37:35.966Z"
   },
   {
    "duration": 24,
    "start_time": "2024-02-28T11:38:34.182Z"
   },
   {
    "duration": 1235,
    "start_time": "2024-02-28T11:38:41.155Z"
   },
   {
    "duration": 74,
    "start_time": "2024-02-28T11:38:42.392Z"
   },
   {
    "duration": 16,
    "start_time": "2024-02-28T11:38:42.468Z"
   },
   {
    "duration": 11,
    "start_time": "2024-02-28T11:38:42.486Z"
   },
   {
    "duration": 10,
    "start_time": "2024-02-28T11:38:42.499Z"
   },
   {
    "duration": 11,
    "start_time": "2024-02-28T11:38:42.511Z"
   },
   {
    "duration": 12,
    "start_time": "2024-02-28T11:38:42.524Z"
   },
   {
    "duration": 13,
    "start_time": "2024-02-28T11:38:42.538Z"
   },
   {
    "duration": 33,
    "start_time": "2024-02-28T11:38:42.553Z"
   },
   {
    "duration": 5,
    "start_time": "2024-02-28T11:38:42.589Z"
   },
   {
    "duration": 14,
    "start_time": "2024-02-28T11:38:42.597Z"
   },
   {
    "duration": 5,
    "start_time": "2024-02-28T11:38:42.612Z"
   },
   {
    "duration": 8,
    "start_time": "2024-02-28T11:38:42.618Z"
   },
   {
    "duration": 12,
    "start_time": "2024-02-28T11:38:42.627Z"
   },
   {
    "duration": 14,
    "start_time": "2024-02-28T11:38:42.640Z"
   },
   {
    "duration": 30,
    "start_time": "2024-02-28T11:38:42.656Z"
   },
   {
    "duration": 8,
    "start_time": "2024-02-28T11:38:42.687Z"
   },
   {
    "duration": 8,
    "start_time": "2024-02-28T11:38:42.697Z"
   },
   {
    "duration": 19,
    "start_time": "2024-02-28T11:38:42.707Z"
   },
   {
    "duration": 17,
    "start_time": "2024-02-28T11:38:42.728Z"
   },
   {
    "duration": 355,
    "start_time": "2024-02-28T11:38:42.747Z"
   },
   {
    "duration": 378,
    "start_time": "2024-02-28T11:38:43.104Z"
   },
   {
    "duration": 248,
    "start_time": "2024-02-28T11:38:43.484Z"
   },
   {
    "duration": 415,
    "start_time": "2024-02-28T11:38:43.734Z"
   },
   {
    "duration": 251,
    "start_time": "2024-02-28T11:38:44.151Z"
   },
   {
    "duration": 324,
    "start_time": "2024-02-28T11:38:44.404Z"
   },
   {
    "duration": 222,
    "start_time": "2024-02-28T11:38:44.730Z"
   },
   {
    "duration": 4,
    "start_time": "2024-02-28T11:38:44.957Z"
   },
   {
    "duration": 198,
    "start_time": "2024-02-28T11:38:44.963Z"
   },
   {
    "duration": 128,
    "start_time": "2024-02-28T11:38:45.163Z"
   },
   {
    "duration": 0,
    "start_time": "2024-02-28T11:38:45.293Z"
   },
   {
    "duration": 0,
    "start_time": "2024-02-28T11:38:45.295Z"
   },
   {
    "duration": 21,
    "start_time": "2024-02-28T11:38:48.564Z"
   },
   {
    "duration": 5,
    "start_time": "2024-02-28T11:38:53.612Z"
   },
   {
    "duration": 342,
    "start_time": "2024-02-28T11:40:14.271Z"
   },
   {
    "duration": 1321,
    "start_time": "2024-02-28T11:40:24.455Z"
   },
   {
    "duration": 74,
    "start_time": "2024-02-28T11:40:25.778Z"
   },
   {
    "duration": 12,
    "start_time": "2024-02-28T11:40:25.854Z"
   },
   {
    "duration": 12,
    "start_time": "2024-02-28T11:40:25.869Z"
   },
   {
    "duration": 34,
    "start_time": "2024-02-28T11:40:25.882Z"
   },
   {
    "duration": 11,
    "start_time": "2024-02-28T11:40:25.917Z"
   },
   {
    "duration": 8,
    "start_time": "2024-02-28T11:40:25.930Z"
   },
   {
    "duration": 12,
    "start_time": "2024-02-28T11:40:25.940Z"
   },
   {
    "duration": 4,
    "start_time": "2024-02-28T11:40:25.954Z"
   },
   {
    "duration": 5,
    "start_time": "2024-02-28T11:40:25.961Z"
   },
   {
    "duration": 4,
    "start_time": "2024-02-28T11:40:25.983Z"
   },
   {
    "duration": 10,
    "start_time": "2024-02-28T11:40:25.989Z"
   },
   {
    "duration": 8,
    "start_time": "2024-02-28T11:40:26.001Z"
   },
   {
    "duration": 25,
    "start_time": "2024-02-28T11:40:26.011Z"
   },
   {
    "duration": 27,
    "start_time": "2024-02-28T11:40:26.038Z"
   },
   {
    "duration": 21,
    "start_time": "2024-02-28T11:40:26.067Z"
   },
   {
    "duration": 12,
    "start_time": "2024-02-28T11:40:26.090Z"
   },
   {
    "duration": 9,
    "start_time": "2024-02-28T11:40:26.104Z"
   },
   {
    "duration": 19,
    "start_time": "2024-02-28T11:40:26.115Z"
   },
   {
    "duration": 45,
    "start_time": "2024-02-28T11:40:26.137Z"
   },
   {
    "duration": 328,
    "start_time": "2024-02-28T11:40:26.184Z"
   },
   {
    "duration": 334,
    "start_time": "2024-02-28T11:40:26.514Z"
   },
   {
    "duration": 250,
    "start_time": "2024-02-28T11:40:26.850Z"
   },
   {
    "duration": 352,
    "start_time": "2024-02-28T11:40:27.102Z"
   },
   {
    "duration": 264,
    "start_time": "2024-02-28T11:40:27.456Z"
   },
   {
    "duration": 334,
    "start_time": "2024-02-28T11:40:27.722Z"
   },
   {
    "duration": 168,
    "start_time": "2024-02-28T11:40:28.057Z"
   },
   {
    "duration": 5,
    "start_time": "2024-02-28T11:40:28.229Z"
   },
   {
    "duration": 211,
    "start_time": "2024-02-28T11:40:28.236Z"
   },
   {
    "duration": 241,
    "start_time": "2024-02-28T11:40:28.448Z"
   },
   {
    "duration": 6,
    "start_time": "2024-02-28T11:40:28.691Z"
   },
   {
    "duration": 100,
    "start_time": "2024-02-28T11:40:28.699Z"
   },
   {
    "duration": 21,
    "start_time": "2024-02-28T11:49:31.900Z"
   },
   {
    "duration": 22,
    "start_time": "2024-02-28T11:50:29.588Z"
   },
   {
    "duration": 4,
    "start_time": "2024-02-28T11:51:44.275Z"
   },
   {
    "duration": 113,
    "start_time": "2024-02-28T11:52:53.101Z"
   },
   {
    "duration": 22,
    "start_time": "2024-02-28T11:53:21.906Z"
   },
   {
    "duration": 15,
    "start_time": "2024-02-28T11:54:37.045Z"
   },
   {
    "duration": 13,
    "start_time": "2024-02-28T11:55:06.114Z"
   },
   {
    "duration": 27,
    "start_time": "2024-02-28T11:57:54.775Z"
   },
   {
    "duration": 47,
    "start_time": "2024-02-28T11:58:14.864Z"
   },
   {
    "duration": 71,
    "start_time": "2024-02-28T12:01:12.737Z"
   },
   {
    "duration": 41,
    "start_time": "2024-02-28T12:03:02.845Z"
   },
   {
    "duration": 11,
    "start_time": "2024-02-28T12:06:49.681Z"
   },
   {
    "duration": 8,
    "start_time": "2024-02-28T12:07:55.271Z"
   },
   {
    "duration": 11,
    "start_time": "2024-02-28T12:21:29.958Z"
   },
   {
    "duration": 1157,
    "start_time": "2024-02-28T14:16:47.638Z"
   },
   {
    "duration": 1231,
    "start_time": "2024-02-28T14:17:04.004Z"
   },
   {
    "duration": 73,
    "start_time": "2024-02-28T14:17:05.237Z"
   },
   {
    "duration": 12,
    "start_time": "2024-02-28T14:17:05.313Z"
   },
   {
    "duration": 11,
    "start_time": "2024-02-28T14:17:05.327Z"
   },
   {
    "duration": 17,
    "start_time": "2024-02-28T14:17:05.341Z"
   },
   {
    "duration": 16,
    "start_time": "2024-02-28T14:17:05.361Z"
   },
   {
    "duration": 10,
    "start_time": "2024-02-28T14:17:05.378Z"
   },
   {
    "duration": 13,
    "start_time": "2024-02-28T14:17:05.390Z"
   },
   {
    "duration": 5,
    "start_time": "2024-02-28T14:17:05.406Z"
   },
   {
    "duration": 39,
    "start_time": "2024-02-28T14:17:05.412Z"
   },
   {
    "duration": 8,
    "start_time": "2024-02-28T14:17:05.453Z"
   },
   {
    "duration": 20,
    "start_time": "2024-02-28T14:17:05.463Z"
   },
   {
    "duration": 18,
    "start_time": "2024-02-28T14:17:05.484Z"
   },
   {
    "duration": 11,
    "start_time": "2024-02-28T14:17:05.506Z"
   },
   {
    "duration": 17,
    "start_time": "2024-02-28T14:17:05.519Z"
   },
   {
    "duration": 15,
    "start_time": "2024-02-28T14:17:05.538Z"
   },
   {
    "duration": 10,
    "start_time": "2024-02-28T14:17:05.555Z"
   },
   {
    "duration": 21,
    "start_time": "2024-02-28T14:17:05.567Z"
   },
   {
    "duration": 18,
    "start_time": "2024-02-28T14:17:05.590Z"
   },
   {
    "duration": 24,
    "start_time": "2024-02-28T14:17:05.610Z"
   },
   {
    "duration": 355,
    "start_time": "2024-02-28T14:17:05.636Z"
   },
   {
    "duration": 395,
    "start_time": "2024-02-28T14:17:05.993Z"
   },
   {
    "duration": 254,
    "start_time": "2024-02-28T14:17:06.390Z"
   },
   {
    "duration": 432,
    "start_time": "2024-02-28T14:17:06.646Z"
   },
   {
    "duration": 257,
    "start_time": "2024-02-28T14:17:07.083Z"
   },
   {
    "duration": 397,
    "start_time": "2024-02-28T14:17:07.342Z"
   },
   {
    "duration": 174,
    "start_time": "2024-02-28T14:17:07.741Z"
   },
   {
    "duration": 5,
    "start_time": "2024-02-28T14:17:07.917Z"
   },
   {
    "duration": 188,
    "start_time": "2024-02-28T14:17:07.924Z"
   },
   {
    "duration": 219,
    "start_time": "2024-02-28T14:17:08.114Z"
   },
   {
    "duration": 5,
    "start_time": "2024-02-28T14:17:08.335Z"
   },
   {
    "duration": 91,
    "start_time": "2024-02-28T14:17:08.342Z"
   },
   {
    "duration": 54,
    "start_time": "2024-02-28T14:17:08.435Z"
   },
   {
    "duration": 9,
    "start_time": "2024-02-28T14:17:08.490Z"
   },
   {
    "duration": 23,
    "start_time": "2024-02-28T14:17:08.501Z"
   },
   {
    "duration": 1519,
    "start_time": "2024-02-28T14:17:08.526Z"
   },
   {
    "duration": 11,
    "start_time": "2024-02-28T14:18:37.041Z"
   },
   {
    "duration": 13,
    "start_time": "2024-02-28T14:19:14.353Z"
   },
   {
    "duration": 1323,
    "start_time": "2024-02-28T14:22:11.473Z"
   },
   {
    "duration": 1273,
    "start_time": "2024-02-28T14:22:28.955Z"
   },
   {
    "duration": 81,
    "start_time": "2024-02-28T14:22:30.230Z"
   },
   {
    "duration": 12,
    "start_time": "2024-02-28T14:22:30.313Z"
   },
   {
    "duration": 49,
    "start_time": "2024-02-28T14:22:30.327Z"
   },
   {
    "duration": 142,
    "start_time": "2024-02-28T14:22:30.378Z"
   },
   {
    "duration": 76,
    "start_time": "2024-02-28T14:22:30.522Z"
   },
   {
    "duration": 32,
    "start_time": "2024-02-28T14:22:30.600Z"
   },
   {
    "duration": 100,
    "start_time": "2024-02-28T14:22:30.634Z"
   },
   {
    "duration": 217,
    "start_time": "2024-02-28T14:22:30.736Z"
   },
   {
    "duration": 141,
    "start_time": "2024-02-28T14:22:30.956Z"
   },
   {
    "duration": 76,
    "start_time": "2024-02-28T14:22:31.099Z"
   },
   {
    "duration": 61,
    "start_time": "2024-02-28T14:22:31.177Z"
   },
   {
    "duration": 153,
    "start_time": "2024-02-28T14:22:31.239Z"
   },
   {
    "duration": 81,
    "start_time": "2024-02-28T14:22:31.395Z"
   },
   {
    "duration": 43,
    "start_time": "2024-02-28T14:22:31.478Z"
   },
   {
    "duration": 51,
    "start_time": "2024-02-28T14:22:31.523Z"
   },
   {
    "duration": 76,
    "start_time": "2024-02-28T14:22:31.576Z"
   },
   {
    "duration": 56,
    "start_time": "2024-02-28T14:22:31.653Z"
   },
   {
    "duration": 51,
    "start_time": "2024-02-28T14:22:31.711Z"
   },
   {
    "duration": 150,
    "start_time": "2024-02-28T14:22:31.765Z"
   },
   {
    "duration": 429,
    "start_time": "2024-02-28T14:22:31.917Z"
   },
   {
    "duration": 366,
    "start_time": "2024-02-28T14:22:32.348Z"
   },
   {
    "duration": 286,
    "start_time": "2024-02-28T14:22:32.715Z"
   },
   {
    "duration": 376,
    "start_time": "2024-02-28T14:22:33.003Z"
   },
   {
    "duration": 274,
    "start_time": "2024-02-28T14:22:33.380Z"
   },
   {
    "duration": 398,
    "start_time": "2024-02-28T14:22:33.655Z"
   },
   {
    "duration": 183,
    "start_time": "2024-02-28T14:22:34.054Z"
   },
   {
    "duration": 5,
    "start_time": "2024-02-28T14:22:34.240Z"
   },
   {
    "duration": 252,
    "start_time": "2024-02-28T14:22:34.246Z"
   },
   {
    "duration": 240,
    "start_time": "2024-02-28T14:22:34.501Z"
   },
   {
    "duration": 5,
    "start_time": "2024-02-28T14:22:34.743Z"
   },
   {
    "duration": 108,
    "start_time": "2024-02-28T14:22:34.750Z"
   },
   {
    "duration": 57,
    "start_time": "2024-02-28T14:22:34.859Z"
   },
   {
    "duration": 9,
    "start_time": "2024-02-28T14:22:34.918Z"
   },
   {
    "duration": 23,
    "start_time": "2024-02-28T14:22:34.929Z"
   },
   {
    "duration": 1333,
    "start_time": "2024-02-28T14:22:34.953Z"
   },
   {
    "duration": 12,
    "start_time": "2024-02-28T14:24:41.155Z"
   },
   {
    "duration": 1285,
    "start_time": "2024-02-28T14:25:58.989Z"
   },
   {
    "duration": 1173,
    "start_time": "2024-02-28T14:27:16.328Z"
   },
   {
    "duration": 12,
    "start_time": "2024-02-28T14:28:18.775Z"
   },
   {
    "duration": 9,
    "start_time": "2024-02-28T14:29:09.466Z"
   },
   {
    "duration": 13,
    "start_time": "2024-02-28T14:32:35.412Z"
   },
   {
    "duration": 11,
    "start_time": "2024-02-28T14:41:51.266Z"
   },
   {
    "duration": 14,
    "start_time": "2024-02-28T14:51:37.979Z"
   },
   {
    "duration": 12,
    "start_time": "2024-02-28T14:58:26.984Z"
   },
   {
    "duration": 49,
    "start_time": "2024-02-28T15:01:21.378Z"
   },
   {
    "duration": 43,
    "start_time": "2024-02-28T15:02:21.954Z"
   },
   {
    "duration": 31,
    "start_time": "2024-02-28T15:03:25.944Z"
   },
   {
    "duration": 33,
    "start_time": "2024-02-28T15:06:45.598Z"
   },
   {
    "duration": 36,
    "start_time": "2024-02-28T15:07:33.338Z"
   },
   {
    "duration": 1325,
    "start_time": "2024-02-28T15:15:59.318Z"
   },
   {
    "duration": 14,
    "start_time": "2024-02-28T15:17:11.968Z"
   },
   {
    "duration": 13,
    "start_time": "2024-02-28T15:17:33.452Z"
   },
   {
    "duration": 22,
    "start_time": "2024-02-28T15:17:40.990Z"
   },
   {
    "duration": 14,
    "start_time": "2024-02-28T15:19:06.428Z"
   },
   {
    "duration": 1243,
    "start_time": "2024-02-28T19:42:54.820Z"
   },
   {
    "duration": 188,
    "start_time": "2024-02-28T19:42:56.065Z"
   },
   {
    "duration": 10,
    "start_time": "2024-02-28T19:42:56.254Z"
   },
   {
    "duration": 24,
    "start_time": "2024-02-28T19:42:56.266Z"
   },
   {
    "duration": 40,
    "start_time": "2024-02-28T19:42:56.292Z"
   },
   {
    "duration": 22,
    "start_time": "2024-02-28T19:42:56.334Z"
   },
   {
    "duration": 19,
    "start_time": "2024-02-28T19:42:56.358Z"
   },
   {
    "duration": 20,
    "start_time": "2024-02-28T19:42:56.378Z"
   },
   {
    "duration": 19,
    "start_time": "2024-02-28T19:42:56.399Z"
   },
   {
    "duration": 5,
    "start_time": "2024-02-28T19:42:56.421Z"
   },
   {
    "duration": 6,
    "start_time": "2024-02-28T19:42:56.427Z"
   },
   {
    "duration": 11,
    "start_time": "2024-02-28T19:42:56.434Z"
   },
   {
    "duration": 34,
    "start_time": "2024-02-28T19:42:56.447Z"
   },
   {
    "duration": 32,
    "start_time": "2024-02-28T19:42:56.482Z"
   },
   {
    "duration": 21,
    "start_time": "2024-02-28T19:42:56.516Z"
   },
   {
    "duration": 6,
    "start_time": "2024-02-28T19:42:56.539Z"
   },
   {
    "duration": 23,
    "start_time": "2024-02-28T19:42:56.547Z"
   },
   {
    "duration": 23,
    "start_time": "2024-02-28T19:42:56.571Z"
   },
   {
    "duration": 35,
    "start_time": "2024-02-28T19:42:56.595Z"
   },
   {
    "duration": 12,
    "start_time": "2024-02-28T19:42:56.632Z"
   },
   {
    "duration": 292,
    "start_time": "2024-02-28T19:42:56.646Z"
   },
   {
    "duration": 288,
    "start_time": "2024-02-28T19:42:56.940Z"
   },
   {
    "duration": 214,
    "start_time": "2024-02-28T19:42:57.230Z"
   },
   {
    "duration": 360,
    "start_time": "2024-02-28T19:42:57.445Z"
   },
   {
    "duration": 207,
    "start_time": "2024-02-28T19:42:57.807Z"
   },
   {
    "duration": 287,
    "start_time": "2024-02-28T19:42:58.015Z"
   },
   {
    "duration": 152,
    "start_time": "2024-02-28T19:42:58.303Z"
   },
   {
    "duration": 4,
    "start_time": "2024-02-28T19:42:58.458Z"
   },
   {
    "duration": 188,
    "start_time": "2024-02-28T19:42:58.463Z"
   },
   {
    "duration": 174,
    "start_time": "2024-02-28T19:42:58.652Z"
   },
   {
    "duration": 5,
    "start_time": "2024-02-28T19:42:58.828Z"
   },
   {
    "duration": 80,
    "start_time": "2024-02-28T19:42:58.835Z"
   },
   {
    "duration": 41,
    "start_time": "2024-02-28T19:42:58.917Z"
   },
   {
    "duration": 8,
    "start_time": "2024-02-28T19:42:58.959Z"
   },
   {
    "duration": 37,
    "start_time": "2024-02-28T19:42:58.969Z"
   },
   {
    "duration": 10,
    "start_time": "2024-02-28T19:42:59.008Z"
   },
   {
    "duration": 54,
    "start_time": "2024-02-28T19:42:59.019Z"
   },
   {
    "duration": 15,
    "start_time": "2024-02-28T19:42:59.075Z"
   },
   {
    "duration": 44,
    "start_time": "2024-02-29T15:50:24.271Z"
   },
   {
    "duration": 7,
    "start_time": "2024-02-29T15:50:45.011Z"
   },
   {
    "duration": 6,
    "start_time": "2024-02-29T15:50:47.079Z"
   },
   {
    "duration": 1362,
    "start_time": "2024-02-29T15:50:52.984Z"
   },
   {
    "duration": 198,
    "start_time": "2024-02-29T15:50:54.348Z"
   },
   {
    "duration": 13,
    "start_time": "2024-02-29T15:50:54.547Z"
   },
   {
    "duration": 12,
    "start_time": "2024-02-29T15:50:54.561Z"
   },
   {
    "duration": 20,
    "start_time": "2024-02-29T15:50:54.574Z"
   },
   {
    "duration": 40,
    "start_time": "2024-02-29T15:50:54.597Z"
   },
   {
    "duration": 33,
    "start_time": "2024-02-29T15:50:54.639Z"
   },
   {
    "duration": 15,
    "start_time": "2024-02-29T15:50:54.673Z"
   },
   {
    "duration": 27,
    "start_time": "2024-02-29T15:50:54.690Z"
   },
   {
    "duration": 11,
    "start_time": "2024-02-29T15:50:54.719Z"
   },
   {
    "duration": 5,
    "start_time": "2024-02-29T15:50:54.732Z"
   },
   {
    "duration": 10,
    "start_time": "2024-02-29T15:50:54.738Z"
   },
   {
    "duration": 6,
    "start_time": "2024-02-29T15:50:54.750Z"
   },
   {
    "duration": 17,
    "start_time": "2024-02-29T15:50:54.759Z"
   },
   {
    "duration": 12,
    "start_time": "2024-02-29T15:50:54.777Z"
   },
   {
    "duration": 13,
    "start_time": "2024-02-29T15:50:54.790Z"
   },
   {
    "duration": 9,
    "start_time": "2024-02-29T15:50:54.804Z"
   },
   {
    "duration": 12,
    "start_time": "2024-02-29T15:50:54.814Z"
   },
   {
    "duration": 18,
    "start_time": "2024-02-29T15:50:54.827Z"
   },
   {
    "duration": 14,
    "start_time": "2024-02-29T15:50:54.846Z"
   },
   {
    "duration": 314,
    "start_time": "2024-02-29T15:50:54.861Z"
   },
   {
    "duration": 322,
    "start_time": "2024-02-29T15:50:55.176Z"
   },
   {
    "duration": 260,
    "start_time": "2024-02-29T15:50:55.500Z"
   },
   {
    "duration": 429,
    "start_time": "2024-02-29T15:50:55.761Z"
   },
   {
    "duration": 229,
    "start_time": "2024-02-29T15:50:56.193Z"
   },
   {
    "duration": 293,
    "start_time": "2024-02-29T15:50:56.424Z"
   },
   {
    "duration": 159,
    "start_time": "2024-02-29T15:50:56.718Z"
   },
   {
    "duration": 4,
    "start_time": "2024-02-29T15:50:56.878Z"
   },
   {
    "duration": 205,
    "start_time": "2024-02-29T15:50:56.884Z"
   },
   {
    "duration": 199,
    "start_time": "2024-02-29T15:50:57.091Z"
   },
   {
    "duration": 4,
    "start_time": "2024-02-29T15:50:57.292Z"
   },
   {
    "duration": 83,
    "start_time": "2024-02-29T15:50:57.297Z"
   },
   {
    "duration": 48,
    "start_time": "2024-02-29T15:50:57.382Z"
   },
   {
    "duration": 9,
    "start_time": "2024-02-29T15:50:57.432Z"
   },
   {
    "duration": 47,
    "start_time": "2024-02-29T15:50:57.442Z"
   },
   {
    "duration": 46,
    "start_time": "2024-02-29T15:50:57.490Z"
   },
   {
    "duration": 68,
    "start_time": "2024-02-29T15:50:57.537Z"
   },
   {
    "duration": 13,
    "start_time": "2024-02-29T15:50:57.607Z"
   },
   {
    "duration": 3,
    "start_time": "2024-02-29T15:51:46.296Z"
   },
   {
    "duration": 10,
    "start_time": "2024-02-29T15:51:49.234Z"
   },
   {
    "duration": 1125,
    "start_time": "2024-02-29T15:51:59.186Z"
   },
   {
    "duration": 73,
    "start_time": "2024-02-29T15:52:00.313Z"
   },
   {
    "duration": 14,
    "start_time": "2024-02-29T15:52:00.389Z"
   },
   {
    "duration": 166,
    "start_time": "2024-02-29T15:52:00.405Z"
   },
   {
    "duration": 84,
    "start_time": "2024-02-29T15:52:00.572Z"
   },
   {
    "duration": 168,
    "start_time": "2024-02-29T15:52:00.658Z"
   },
   {
    "duration": 189,
    "start_time": "2024-02-29T15:52:00.828Z"
   },
   {
    "duration": 40,
    "start_time": "2024-02-29T15:52:01.018Z"
   },
   {
    "duration": 103,
    "start_time": "2024-02-29T15:52:01.060Z"
   },
   {
    "duration": 163,
    "start_time": "2024-02-29T15:52:01.165Z"
   },
   {
    "duration": 44,
    "start_time": "2024-02-29T15:52:01.329Z"
   },
   {
    "duration": 74,
    "start_time": "2024-02-29T15:52:01.374Z"
   },
   {
    "duration": 182,
    "start_time": "2024-02-29T15:52:01.450Z"
   },
   {
    "duration": 251,
    "start_time": "2024-02-29T15:52:01.634Z"
   },
   {
    "duration": 33,
    "start_time": "2024-02-29T15:52:01.887Z"
   },
   {
    "duration": 47,
    "start_time": "2024-02-29T15:52:01.922Z"
   },
   {
    "duration": 38,
    "start_time": "2024-02-29T15:52:01.971Z"
   },
   {
    "duration": 53,
    "start_time": "2024-02-29T15:52:02.011Z"
   },
   {
    "duration": 100,
    "start_time": "2024-02-29T15:52:02.066Z"
   },
   {
    "duration": 64,
    "start_time": "2024-02-29T15:52:02.168Z"
   },
   {
    "duration": 367,
    "start_time": "2024-02-29T15:52:02.234Z"
   },
   {
    "duration": 302,
    "start_time": "2024-02-29T15:52:02.602Z"
   },
   {
    "duration": 225,
    "start_time": "2024-02-29T15:52:02.905Z"
   },
   {
    "duration": 334,
    "start_time": "2024-02-29T15:52:03.131Z"
   },
   {
    "duration": 232,
    "start_time": "2024-02-29T15:52:03.467Z"
   },
   {
    "duration": 316,
    "start_time": "2024-02-29T15:52:03.700Z"
   },
   {
    "duration": 149,
    "start_time": "2024-02-29T15:52:04.018Z"
   },
   {
    "duration": 91,
    "start_time": "2024-02-29T15:52:04.170Z"
   },
   {
    "duration": 250,
    "start_time": "2024-02-29T15:52:04.262Z"
   },
   {
    "duration": 177,
    "start_time": "2024-02-29T15:52:04.513Z"
   },
   {
    "duration": 4,
    "start_time": "2024-02-29T15:52:04.692Z"
   },
   {
    "duration": 76,
    "start_time": "2024-02-29T15:52:04.697Z"
   },
   {
    "duration": 49,
    "start_time": "2024-02-29T15:52:04.775Z"
   },
   {
    "duration": 11,
    "start_time": "2024-02-29T15:52:04.825Z"
   },
   {
    "duration": 58,
    "start_time": "2024-02-29T15:52:04.838Z"
   },
   {
    "duration": 27,
    "start_time": "2024-02-29T15:52:04.898Z"
   },
   {
    "duration": 42,
    "start_time": "2024-02-29T15:52:04.927Z"
   },
   {
    "duration": 32,
    "start_time": "2024-02-29T15:52:04.971Z"
   },
   {
    "duration": 1112,
    "start_time": "2024-02-29T16:07:50.825Z"
   },
   {
    "duration": 84,
    "start_time": "2024-02-29T16:07:51.939Z"
   },
   {
    "duration": 11,
    "start_time": "2024-02-29T16:07:52.024Z"
   },
   {
    "duration": 10,
    "start_time": "2024-02-29T16:07:52.036Z"
   },
   {
    "duration": 9,
    "start_time": "2024-02-29T16:07:52.048Z"
   },
   {
    "duration": 11,
    "start_time": "2024-02-29T16:07:52.058Z"
   },
   {
    "duration": 9,
    "start_time": "2024-02-29T16:07:52.070Z"
   },
   {
    "duration": 13,
    "start_time": "2024-02-29T16:07:52.080Z"
   },
   {
    "duration": 12,
    "start_time": "2024-02-29T16:07:52.095Z"
   },
   {
    "duration": 16,
    "start_time": "2024-02-29T16:07:52.108Z"
   },
   {
    "duration": 7,
    "start_time": "2024-02-29T16:07:52.125Z"
   },
   {
    "duration": 4,
    "start_time": "2024-02-29T16:07:52.133Z"
   },
   {
    "duration": 11,
    "start_time": "2024-02-29T16:07:52.138Z"
   },
   {
    "duration": 16,
    "start_time": "2024-02-29T16:07:52.152Z"
   },
   {
    "duration": 19,
    "start_time": "2024-02-29T16:07:52.170Z"
   },
   {
    "duration": 24,
    "start_time": "2024-02-29T16:07:52.190Z"
   },
   {
    "duration": 15,
    "start_time": "2024-02-29T16:07:52.215Z"
   },
   {
    "duration": 12,
    "start_time": "2024-02-29T16:07:52.231Z"
   },
   {
    "duration": 16,
    "start_time": "2024-02-29T16:07:52.245Z"
   },
   {
    "duration": 14,
    "start_time": "2024-02-29T16:07:52.263Z"
   },
   {
    "duration": 302,
    "start_time": "2024-02-29T16:07:52.278Z"
   },
   {
    "duration": 327,
    "start_time": "2024-02-29T16:07:52.581Z"
   },
   {
    "duration": 229,
    "start_time": "2024-02-29T16:07:52.909Z"
   },
   {
    "duration": 356,
    "start_time": "2024-02-29T16:07:53.140Z"
   },
   {
    "duration": 226,
    "start_time": "2024-02-29T16:07:53.497Z"
   },
   {
    "duration": 310,
    "start_time": "2024-02-29T16:07:53.724Z"
   },
   {
    "duration": 152,
    "start_time": "2024-02-29T16:07:54.035Z"
   },
   {
    "duration": 6,
    "start_time": "2024-02-29T16:07:54.189Z"
   },
   {
    "duration": 172,
    "start_time": "2024-02-29T16:07:54.197Z"
   },
   {
    "duration": 192,
    "start_time": "2024-02-29T16:07:54.370Z"
   },
   {
    "duration": 4,
    "start_time": "2024-02-29T16:07:54.564Z"
   },
   {
    "duration": 81,
    "start_time": "2024-02-29T16:07:54.569Z"
   },
   {
    "duration": 48,
    "start_time": "2024-02-29T16:07:54.652Z"
   },
   {
    "duration": 8,
    "start_time": "2024-02-29T16:07:54.701Z"
   },
   {
    "duration": 26,
    "start_time": "2024-02-29T16:07:54.711Z"
   },
   {
    "duration": 19,
    "start_time": "2024-02-29T16:07:54.738Z"
   },
   {
    "duration": 46,
    "start_time": "2024-02-29T16:07:54.759Z"
   },
   {
    "duration": 13,
    "start_time": "2024-02-29T16:07:54.806Z"
   },
   {
    "duration": 4,
    "start_time": "2024-02-29T16:15:51.907Z"
   },
   {
    "duration": 5,
    "start_time": "2024-02-29T16:17:28.050Z"
   },
   {
    "duration": 4,
    "start_time": "2024-02-29T16:18:13.521Z"
   },
   {
    "duration": 210,
    "start_time": "2024-02-29T16:24:58.380Z"
   },
   {
    "duration": 290,
    "start_time": "2024-02-29T16:32:15.036Z"
   }
  ],
  "kernelspec": {
   "display_name": "Python 3 (ipykernel)",
   "language": "python",
   "name": "python3"
  },
  "language_info": {
   "codemirror_mode": {
    "name": "ipython",
    "version": 3
   },
   "file_extension": ".py",
   "mimetype": "text/x-python",
   "name": "python",
   "nbconvert_exporter": "python",
   "pygments_lexer": "ipython3",
   "version": "3.9.5"
  },
  "toc": {
   "base_numbering": 1,
   "nav_menu": {},
   "number_sections": true,
   "sideBar": true,
   "skip_h1_title": true,
   "title_cell": "Table of Contents",
   "title_sidebar": "Contents",
   "toc_cell": false,
   "toc_position": {},
   "toc_section_display": true,
   "toc_window_display": false
  }
 },
 "nbformat": 4,
 "nbformat_minor": 2
}
